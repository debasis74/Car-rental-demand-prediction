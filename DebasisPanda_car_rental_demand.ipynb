{
 "cells": [
  {
   "cell_type": "markdown",
   "id": "e0a79e86",
   "metadata": {},
   "source": [
    "#### Debasis Panda"
   ]
  },
  {
   "cell_type": "markdown",
   "id": "7f3b92f7",
   "metadata": {},
   "source": [
    "# importing datasets and libraries"
   ]
  },
  {
   "cell_type": "code",
   "execution_count": 1,
   "id": "f2566cef",
   "metadata": {},
   "outputs": [],
   "source": [
    "import pandas as pd\n",
    "import numpy as np\n",
    "import time\n",
    "import warnings\n",
    "warnings.filterwarnings('ignore')\n",
    "\n",
    "pd.set_option('display.max_rows', 50000)\n",
    "pd.set_option('display.max_columns', 50000)\n",
    "pd.set_option('display.width', 1000)"
   ]
  },
  {
   "cell_type": "code",
   "execution_count": 2,
   "id": "c08ab9c8",
   "metadata": {},
   "outputs": [],
   "source": [
    "# Reading train,test set\n",
    "#train set \n",
    "train=pd.read_csv('train.csv')\n",
    "#test set\n",
    "test=pd.read_csv('test.csv')"
   ]
  },
  {
   "cell_type": "code",
   "execution_count": 3,
   "id": "9b7b9e45",
   "metadata": {},
   "outputs": [],
   "source": [
    "import seaborn as sns\n",
    "import matplotlib.pyplot as plt\n",
    "import plotly.express as px\n",
    "\n",
    "# import plotly.graph_objs as go\n",
    "# from sklearn.model_selection import train_test_split"
   ]
  },
  {
   "cell_type": "markdown",
   "id": "3797ca9f",
   "metadata": {},
   "source": [
    "# checking the data set to know about target variable and raw features"
   ]
  },
  {
   "cell_type": "code",
   "execution_count": 4,
   "id": "918d04e0",
   "metadata": {},
   "outputs": [
    {
     "data": {
      "text/html": [
       "<div>\n",
       "<style scoped>\n",
       "    .dataframe tbody tr th:only-of-type {\n",
       "        vertical-align: middle;\n",
       "    }\n",
       "\n",
       "    .dataframe tbody tr th {\n",
       "        vertical-align: top;\n",
       "    }\n",
       "\n",
       "    .dataframe thead th {\n",
       "        text-align: right;\n",
       "    }\n",
       "</style>\n",
       "<table border=\"1\" class=\"dataframe\">\n",
       "  <thead>\n",
       "    <tr style=\"text-align: right;\">\n",
       "      <th></th>\n",
       "      <th>date</th>\n",
       "      <th>hour</th>\n",
       "      <th>demand</th>\n",
       "    </tr>\n",
       "  </thead>\n",
       "  <tbody>\n",
       "    <tr>\n",
       "      <th>0</th>\n",
       "      <td>2018-08-18</td>\n",
       "      <td>9</td>\n",
       "      <td>91</td>\n",
       "    </tr>\n",
       "    <tr>\n",
       "      <th>1</th>\n",
       "      <td>2018-08-18</td>\n",
       "      <td>10</td>\n",
       "      <td>21</td>\n",
       "    </tr>\n",
       "    <tr>\n",
       "      <th>2</th>\n",
       "      <td>2018-08-18</td>\n",
       "      <td>13</td>\n",
       "      <td>23</td>\n",
       "    </tr>\n",
       "    <tr>\n",
       "      <th>3</th>\n",
       "      <td>2018-08-18</td>\n",
       "      <td>14</td>\n",
       "      <td>104</td>\n",
       "    </tr>\n",
       "    <tr>\n",
       "      <th>4</th>\n",
       "      <td>2018-08-18</td>\n",
       "      <td>15</td>\n",
       "      <td>81</td>\n",
       "    </tr>\n",
       "  </tbody>\n",
       "</table>\n",
       "</div>"
      ],
      "text/plain": [
       "         date  hour  demand\n",
       "0  2018-08-18     9      91\n",
       "1  2018-08-18    10      21\n",
       "2  2018-08-18    13      23\n",
       "3  2018-08-18    14     104\n",
       "4  2018-08-18    15      81"
      ]
     },
     "execution_count": 4,
     "metadata": {},
     "output_type": "execute_result"
    }
   ],
   "source": [
    "train.head()"
   ]
  },
  {
   "cell_type": "code",
   "execution_count": 5,
   "id": "355fc72a",
   "metadata": {},
   "outputs": [
    {
     "data": {
      "text/html": [
       "<div>\n",
       "<style scoped>\n",
       "    .dataframe tbody tr th:only-of-type {\n",
       "        vertical-align: middle;\n",
       "    }\n",
       "\n",
       "    .dataframe tbody tr th {\n",
       "        vertical-align: top;\n",
       "    }\n",
       "\n",
       "    .dataframe thead th {\n",
       "        text-align: right;\n",
       "    }\n",
       "</style>\n",
       "<table border=\"1\" class=\"dataframe\">\n",
       "  <thead>\n",
       "    <tr style=\"text-align: right;\">\n",
       "      <th></th>\n",
       "      <th>date</th>\n",
       "      <th>hour</th>\n",
       "    </tr>\n",
       "  </thead>\n",
       "  <tbody>\n",
       "    <tr>\n",
       "      <th>0</th>\n",
       "      <td>2021-03-01</td>\n",
       "      <td>0</td>\n",
       "    </tr>\n",
       "    <tr>\n",
       "      <th>1</th>\n",
       "      <td>2021-03-01</td>\n",
       "      <td>1</td>\n",
       "    </tr>\n",
       "    <tr>\n",
       "      <th>2</th>\n",
       "      <td>2021-03-01</td>\n",
       "      <td>2</td>\n",
       "    </tr>\n",
       "    <tr>\n",
       "      <th>3</th>\n",
       "      <td>2021-03-01</td>\n",
       "      <td>3</td>\n",
       "    </tr>\n",
       "    <tr>\n",
       "      <th>4</th>\n",
       "      <td>2021-03-01</td>\n",
       "      <td>5</td>\n",
       "    </tr>\n",
       "  </tbody>\n",
       "</table>\n",
       "</div>"
      ],
      "text/plain": [
       "         date  hour\n",
       "0  2021-03-01     0\n",
       "1  2021-03-01     1\n",
       "2  2021-03-01     2\n",
       "3  2021-03-01     3\n",
       "4  2021-03-01     5"
      ]
     },
     "execution_count": 5,
     "metadata": {},
     "output_type": "execute_result"
    }
   ],
   "source": [
    "test.head()\n",
    "#clearly we have to predict the demand column"
   ]
  },
  {
   "cell_type": "markdown",
   "id": "f9600224",
   "metadata": {},
   "source": [
    "-------------- raw features-> date,hour\n",
    "\n",
    "---------------target variable-> demand"
   ]
  },
  {
   "cell_type": "code",
   "execution_count": 6,
   "id": "68e23a6a",
   "metadata": {},
   "outputs": [
    {
     "name": "stdout",
     "output_type": "stream",
     "text": [
      "<class 'pandas.core.frame.DataFrame'>\n",
      "RangeIndex: 18247 entries, 0 to 18246\n",
      "Data columns (total 3 columns):\n",
      " #   Column  Non-Null Count  Dtype \n",
      "---  ------  --------------  ----- \n",
      " 0   date    18247 non-null  object\n",
      " 1   hour    18247 non-null  int64 \n",
      " 2   demand  18247 non-null  int64 \n",
      "dtypes: int64(2), object(1)\n",
      "memory usage: 427.8+ KB\n",
      "None\n",
      "****************************************************************************************************\n",
      "<class 'pandas.core.frame.DataFrame'>\n",
      "RangeIndex: 7650 entries, 0 to 7649\n",
      "Data columns (total 2 columns):\n",
      " #   Column  Non-Null Count  Dtype \n",
      "---  ------  --------------  ----- \n",
      " 0   date    7650 non-null   object\n",
      " 1   hour    7650 non-null   int64 \n",
      "dtypes: int64(1), object(1)\n",
      "memory usage: 119.7+ KB\n",
      "None\n"
     ]
    }
   ],
   "source": [
    "print(train.info())\n",
    "\n",
    "print('*'*100)\n",
    "\n",
    "print(test.info())"
   ]
  },
  {
   "cell_type": "markdown",
   "id": "8aeed830",
   "metadata": {},
   "source": [
    "# Data preprocessing"
   ]
  },
  {
   "cell_type": "code",
   "execution_count": 7,
   "id": "d0922291",
   "metadata": {},
   "outputs": [],
   "source": [
    "#converting date into date time format\n",
    "train.date= pd.to_datetime(train.date)\n",
    "test.date= pd.to_datetime(test.date)"
   ]
  },
  {
   "cell_type": "code",
   "execution_count": 8,
   "id": "d4f570d6",
   "metadata": {},
   "outputs": [
    {
     "name": "stdout",
     "output_type": "stream",
     "text": [
      "<class 'pandas.core.frame.DataFrame'>\n",
      "RangeIndex: 18247 entries, 0 to 18246\n",
      "Data columns (total 3 columns):\n",
      " #   Column  Non-Null Count  Dtype         \n",
      "---  ------  --------------  -----         \n",
      " 0   date    18247 non-null  datetime64[ns]\n",
      " 1   hour    18247 non-null  int64         \n",
      " 2   demand  18247 non-null  int64         \n",
      "dtypes: datetime64[ns](1), int64(2)\n",
      "memory usage: 427.8 KB\n"
     ]
    }
   ],
   "source": [
    "train.info()\n"
   ]
  },
  {
   "cell_type": "markdown",
   "id": "5d0f8569",
   "metadata": {},
   "source": [
    "------------------- no null values present in both train,test sets--------------------"
   ]
  },
  {
   "cell_type": "markdown",
   "id": "8248b32e",
   "metadata": {},
   "source": [
    "## sorting the date column in train set as we have to predict the model based on future dates"
   ]
  },
  {
   "cell_type": "markdown",
   "id": "1ec94ea0",
   "metadata": {},
   "source": [
    "#### sorted the values in an order such that it sorted by a combination of date and hour\n",
    "this will also be helpful in case of rolling mean or lag tecnhiques as the data will be sorted orderly"
   ]
  },
  {
   "cell_type": "code",
   "execution_count": 9,
   "id": "df41cdf7",
   "metadata": {},
   "outputs": [],
   "source": [
    "train['new_date']=pd.to_datetime(train['date'].astype(str) + ' ' + train['hour'].astype(str)+':00:00' )\n",
    "train.sort_values(by='new_date',inplace=True)\n",
    "#### same for test data\n",
    "test['new_date']=pd.to_datetime(test['date'].astype(str) + ' ' + test['hour'].astype(str)+':00:00' )\n",
    "test.sort_values(by='new_date',inplace=True)\n",
    "\n"
   ]
  },
  {
   "cell_type": "code",
   "execution_count": 10,
   "id": "6fa46f5f",
   "metadata": {},
   "outputs": [],
   "source": [
    "train.reset_index(drop=True,inplace=True)"
   ]
  },
  {
   "cell_type": "code",
   "execution_count": 11,
   "id": "02e15f8c",
   "metadata": {},
   "outputs": [
    {
     "data": {
      "text/html": [
       "<div>\n",
       "<style scoped>\n",
       "    .dataframe tbody tr th:only-of-type {\n",
       "        vertical-align: middle;\n",
       "    }\n",
       "\n",
       "    .dataframe tbody tr th {\n",
       "        vertical-align: top;\n",
       "    }\n",
       "\n",
       "    .dataframe thead th {\n",
       "        text-align: right;\n",
       "    }\n",
       "</style>\n",
       "<table border=\"1\" class=\"dataframe\">\n",
       "  <thead>\n",
       "    <tr style=\"text-align: right;\">\n",
       "      <th></th>\n",
       "      <th>date</th>\n",
       "      <th>hour</th>\n",
       "      <th>demand</th>\n",
       "      <th>new_date</th>\n",
       "    </tr>\n",
       "  </thead>\n",
       "  <tbody>\n",
       "    <tr>\n",
       "      <th>18242</th>\n",
       "      <td>2021-02-28</td>\n",
       "      <td>19</td>\n",
       "      <td>95</td>\n",
       "      <td>2021-02-28 19:00:00</td>\n",
       "    </tr>\n",
       "    <tr>\n",
       "      <th>18243</th>\n",
       "      <td>2021-02-28</td>\n",
       "      <td>20</td>\n",
       "      <td>88</td>\n",
       "      <td>2021-02-28 20:00:00</td>\n",
       "    </tr>\n",
       "    <tr>\n",
       "      <th>18244</th>\n",
       "      <td>2021-02-28</td>\n",
       "      <td>21</td>\n",
       "      <td>39</td>\n",
       "      <td>2021-02-28 21:00:00</td>\n",
       "    </tr>\n",
       "    <tr>\n",
       "      <th>18245</th>\n",
       "      <td>2021-02-28</td>\n",
       "      <td>22</td>\n",
       "      <td>104</td>\n",
       "      <td>2021-02-28 22:00:00</td>\n",
       "    </tr>\n",
       "    <tr>\n",
       "      <th>18246</th>\n",
       "      <td>2021-02-28</td>\n",
       "      <td>23</td>\n",
       "      <td>85</td>\n",
       "      <td>2021-02-28 23:00:00</td>\n",
       "    </tr>\n",
       "  </tbody>\n",
       "</table>\n",
       "</div>"
      ],
      "text/plain": [
       "            date  hour  demand            new_date\n",
       "18242 2021-02-28    19      95 2021-02-28 19:00:00\n",
       "18243 2021-02-28    20      88 2021-02-28 20:00:00\n",
       "18244 2021-02-28    21      39 2021-02-28 21:00:00\n",
       "18245 2021-02-28    22     104 2021-02-28 22:00:00\n",
       "18246 2021-02-28    23      85 2021-02-28 23:00:00"
      ]
     },
     "metadata": {},
     "output_type": "display_data"
    },
    {
     "data": {
      "text/html": [
       "<div>\n",
       "<style scoped>\n",
       "    .dataframe tbody tr th:only-of-type {\n",
       "        vertical-align: middle;\n",
       "    }\n",
       "\n",
       "    .dataframe tbody tr th {\n",
       "        vertical-align: top;\n",
       "    }\n",
       "\n",
       "    .dataframe thead th {\n",
       "        text-align: right;\n",
       "    }\n",
       "</style>\n",
       "<table border=\"1\" class=\"dataframe\">\n",
       "  <thead>\n",
       "    <tr style=\"text-align: right;\">\n",
       "      <th></th>\n",
       "      <th>date</th>\n",
       "      <th>hour</th>\n",
       "      <th>demand</th>\n",
       "      <th>new_date</th>\n",
       "    </tr>\n",
       "  </thead>\n",
       "  <tbody>\n",
       "    <tr>\n",
       "      <th>0</th>\n",
       "      <td>2018-08-18</td>\n",
       "      <td>9</td>\n",
       "      <td>91</td>\n",
       "      <td>2018-08-18 09:00:00</td>\n",
       "    </tr>\n",
       "    <tr>\n",
       "      <th>1</th>\n",
       "      <td>2018-08-18</td>\n",
       "      <td>10</td>\n",
       "      <td>21</td>\n",
       "      <td>2018-08-18 10:00:00</td>\n",
       "    </tr>\n",
       "    <tr>\n",
       "      <th>2</th>\n",
       "      <td>2018-08-18</td>\n",
       "      <td>13</td>\n",
       "      <td>23</td>\n",
       "      <td>2018-08-18 13:00:00</td>\n",
       "    </tr>\n",
       "    <tr>\n",
       "      <th>3</th>\n",
       "      <td>2018-08-18</td>\n",
       "      <td>14</td>\n",
       "      <td>104</td>\n",
       "      <td>2018-08-18 14:00:00</td>\n",
       "    </tr>\n",
       "    <tr>\n",
       "      <th>4</th>\n",
       "      <td>2018-08-18</td>\n",
       "      <td>15</td>\n",
       "      <td>81</td>\n",
       "      <td>2018-08-18 15:00:00</td>\n",
       "    </tr>\n",
       "    <tr>\n",
       "      <th>5</th>\n",
       "      <td>2018-08-18</td>\n",
       "      <td>16</td>\n",
       "      <td>37</td>\n",
       "      <td>2018-08-18 16:00:00</td>\n",
       "    </tr>\n",
       "    <tr>\n",
       "      <th>6</th>\n",
       "      <td>2018-08-18</td>\n",
       "      <td>17</td>\n",
       "      <td>27</td>\n",
       "      <td>2018-08-18 17:00:00</td>\n",
       "    </tr>\n",
       "    <tr>\n",
       "      <th>7</th>\n",
       "      <td>2018-08-18</td>\n",
       "      <td>18</td>\n",
       "      <td>66</td>\n",
       "      <td>2018-08-18 18:00:00</td>\n",
       "    </tr>\n",
       "    <tr>\n",
       "      <th>8</th>\n",
       "      <td>2018-08-18</td>\n",
       "      <td>19</td>\n",
       "      <td>80</td>\n",
       "      <td>2018-08-18 19:00:00</td>\n",
       "    </tr>\n",
       "    <tr>\n",
       "      <th>9</th>\n",
       "      <td>2018-08-18</td>\n",
       "      <td>20</td>\n",
       "      <td>52</td>\n",
       "      <td>2018-08-18 20:00:00</td>\n",
       "    </tr>\n",
       "    <tr>\n",
       "      <th>10</th>\n",
       "      <td>2018-08-18</td>\n",
       "      <td>21</td>\n",
       "      <td>6</td>\n",
       "      <td>2018-08-18 21:00:00</td>\n",
       "    </tr>\n",
       "    <tr>\n",
       "      <th>11</th>\n",
       "      <td>2018-08-18</td>\n",
       "      <td>22</td>\n",
       "      <td>23</td>\n",
       "      <td>2018-08-18 22:00:00</td>\n",
       "    </tr>\n",
       "    <tr>\n",
       "      <th>12</th>\n",
       "      <td>2018-08-18</td>\n",
       "      <td>23</td>\n",
       "      <td>21</td>\n",
       "      <td>2018-08-18 23:00:00</td>\n",
       "    </tr>\n",
       "    <tr>\n",
       "      <th>13</th>\n",
       "      <td>2018-08-19</td>\n",
       "      <td>2</td>\n",
       "      <td>38</td>\n",
       "      <td>2018-08-19 02:00:00</td>\n",
       "    </tr>\n",
       "    <tr>\n",
       "      <th>14</th>\n",
       "      <td>2018-08-19</td>\n",
       "      <td>8</td>\n",
       "      <td>48</td>\n",
       "      <td>2018-08-19 08:00:00</td>\n",
       "    </tr>\n",
       "  </tbody>\n",
       "</table>\n",
       "</div>"
      ],
      "text/plain": [
       "         date  hour  demand            new_date\n",
       "0  2018-08-18     9      91 2018-08-18 09:00:00\n",
       "1  2018-08-18    10      21 2018-08-18 10:00:00\n",
       "2  2018-08-18    13      23 2018-08-18 13:00:00\n",
       "3  2018-08-18    14     104 2018-08-18 14:00:00\n",
       "4  2018-08-18    15      81 2018-08-18 15:00:00\n",
       "5  2018-08-18    16      37 2018-08-18 16:00:00\n",
       "6  2018-08-18    17      27 2018-08-18 17:00:00\n",
       "7  2018-08-18    18      66 2018-08-18 18:00:00\n",
       "8  2018-08-18    19      80 2018-08-18 19:00:00\n",
       "9  2018-08-18    20      52 2018-08-18 20:00:00\n",
       "10 2018-08-18    21       6 2018-08-18 21:00:00\n",
       "11 2018-08-18    22      23 2018-08-18 22:00:00\n",
       "12 2018-08-18    23      21 2018-08-18 23:00:00\n",
       "13 2018-08-19     2      38 2018-08-19 02:00:00\n",
       "14 2018-08-19     8      48 2018-08-19 08:00:00"
      ]
     },
     "execution_count": 11,
     "metadata": {},
     "output_type": "execute_result"
    }
   ],
   "source": [
    "# used for sanity check of above code\n",
    "display(train.tail())\n",
    "train.head(15)"
   ]
  },
  {
   "cell_type": "markdown",
   "id": "af9a3d0d",
   "metadata": {},
   "source": [
    "## making of date related features could have been made at feature engineering part but  to check certain outliers like day of date (range 1 to 31) or hours(range 1 to 24)"
   ]
  },
  {
   "cell_type": "code",
   "execution_count": 12,
   "id": "739478db",
   "metadata": {},
   "outputs": [],
   "source": [
    "def date_related_features(data):\n",
    "    # week related features\n",
    "    data['day_of_week'] = data['date'].dt.dayofweek\n",
    "    data['week_of_year'] = data['date'].dt.week\n",
    "\n",
    "    # day number from date\n",
    "    data['day_from_date'] = data['date'].dt.day # 12-01-2001 so day_from_date is 12\n",
    "\n",
    "    #month related features\n",
    "    data['month_of_year'] = data['date'].dt.month \n",
    "\n",
    "    #quarter related features\n",
    "    data['quarter'] = data.date.dt.quarter\n",
    "    \n",
    "    data['day_of_year']=data.date.dt.dayofyear\n",
    "    \n",
    "    data['year']=data.date.dt.year\n",
    "    \n",
    "    return data\n"
   ]
  },
  {
   "cell_type": "code",
   "execution_count": null,
   "id": "a3acc79a",
   "metadata": {},
   "outputs": [],
   "source": []
  },
  {
   "cell_type": "code",
   "execution_count": 13,
   "id": "b9b7f897",
   "metadata": {},
   "outputs": [],
   "source": [
    "# train.head()\n",
    "# dummy=train.copy()"
   ]
  },
  {
   "cell_type": "code",
   "execution_count": 14,
   "id": "7606f4e0",
   "metadata": {},
   "outputs": [],
   "source": [
    "#date_related_features for train and test\n",
    "train=date_related_features(train)\n",
    "test=date_related_features(test)"
   ]
  },
  {
   "cell_type": "code",
   "execution_count": 15,
   "id": "4db4285b",
   "metadata": {},
   "outputs": [
    {
     "data": {
      "text/html": [
       "<div>\n",
       "<style scoped>\n",
       "    .dataframe tbody tr th:only-of-type {\n",
       "        vertical-align: middle;\n",
       "    }\n",
       "\n",
       "    .dataframe tbody tr th {\n",
       "        vertical-align: top;\n",
       "    }\n",
       "\n",
       "    .dataframe thead th {\n",
       "        text-align: right;\n",
       "    }\n",
       "</style>\n",
       "<table border=\"1\" class=\"dataframe\">\n",
       "  <thead>\n",
       "    <tr style=\"text-align: right;\">\n",
       "      <th></th>\n",
       "      <th>date</th>\n",
       "      <th>hour</th>\n",
       "      <th>demand</th>\n",
       "      <th>new_date</th>\n",
       "      <th>day_of_week</th>\n",
       "      <th>week_of_year</th>\n",
       "      <th>day_from_date</th>\n",
       "      <th>month_of_year</th>\n",
       "      <th>quarter</th>\n",
       "      <th>day_of_year</th>\n",
       "      <th>year</th>\n",
       "    </tr>\n",
       "  </thead>\n",
       "  <tbody>\n",
       "    <tr>\n",
       "      <th>0</th>\n",
       "      <td>2018-08-18</td>\n",
       "      <td>9</td>\n",
       "      <td>91</td>\n",
       "      <td>2018-08-18 09:00:00</td>\n",
       "      <td>5</td>\n",
       "      <td>33</td>\n",
       "      <td>18</td>\n",
       "      <td>8</td>\n",
       "      <td>3</td>\n",
       "      <td>230</td>\n",
       "      <td>2018</td>\n",
       "    </tr>\n",
       "    <tr>\n",
       "      <th>1</th>\n",
       "      <td>2018-08-18</td>\n",
       "      <td>10</td>\n",
       "      <td>21</td>\n",
       "      <td>2018-08-18 10:00:00</td>\n",
       "      <td>5</td>\n",
       "      <td>33</td>\n",
       "      <td>18</td>\n",
       "      <td>8</td>\n",
       "      <td>3</td>\n",
       "      <td>230</td>\n",
       "      <td>2018</td>\n",
       "    </tr>\n",
       "  </tbody>\n",
       "</table>\n",
       "</div>"
      ],
      "text/plain": [
       "        date  hour  demand            new_date  day_of_week  week_of_year  day_from_date  month_of_year  quarter  day_of_year  year\n",
       "0 2018-08-18     9      91 2018-08-18 09:00:00            5            33             18              8        3          230  2018\n",
       "1 2018-08-18    10      21 2018-08-18 10:00:00            5            33             18              8        3          230  2018"
      ]
     },
     "metadata": {},
     "output_type": "display_data"
    },
    {
     "data": {
      "text/html": [
       "<div>\n",
       "<style scoped>\n",
       "    .dataframe tbody tr th:only-of-type {\n",
       "        vertical-align: middle;\n",
       "    }\n",
       "\n",
       "    .dataframe tbody tr th {\n",
       "        vertical-align: top;\n",
       "    }\n",
       "\n",
       "    .dataframe thead th {\n",
       "        text-align: right;\n",
       "    }\n",
       "</style>\n",
       "<table border=\"1\" class=\"dataframe\">\n",
       "  <thead>\n",
       "    <tr style=\"text-align: right;\">\n",
       "      <th></th>\n",
       "      <th>date</th>\n",
       "      <th>hour</th>\n",
       "      <th>new_date</th>\n",
       "      <th>day_of_week</th>\n",
       "      <th>week_of_year</th>\n",
       "      <th>day_from_date</th>\n",
       "      <th>month_of_year</th>\n",
       "      <th>quarter</th>\n",
       "      <th>day_of_year</th>\n",
       "      <th>year</th>\n",
       "    </tr>\n",
       "  </thead>\n",
       "  <tbody>\n",
       "    <tr>\n",
       "      <th>0</th>\n",
       "      <td>2021-03-01</td>\n",
       "      <td>0</td>\n",
       "      <td>2021-03-01 00:00:00</td>\n",
       "      <td>0</td>\n",
       "      <td>9</td>\n",
       "      <td>1</td>\n",
       "      <td>3</td>\n",
       "      <td>1</td>\n",
       "      <td>60</td>\n",
       "      <td>2021</td>\n",
       "    </tr>\n",
       "    <tr>\n",
       "      <th>1</th>\n",
       "      <td>2021-03-01</td>\n",
       "      <td>1</td>\n",
       "      <td>2021-03-01 01:00:00</td>\n",
       "      <td>0</td>\n",
       "      <td>9</td>\n",
       "      <td>1</td>\n",
       "      <td>3</td>\n",
       "      <td>1</td>\n",
       "      <td>60</td>\n",
       "      <td>2021</td>\n",
       "    </tr>\n",
       "  </tbody>\n",
       "</table>\n",
       "</div>"
      ],
      "text/plain": [
       "        date  hour            new_date  day_of_week  week_of_year  day_from_date  month_of_year  quarter  day_of_year  year\n",
       "0 2021-03-01     0 2021-03-01 00:00:00            0             9              1              3        1           60  2021\n",
       "1 2021-03-01     1 2021-03-01 01:00:00            0             9              1              3        1           60  2021"
      ]
     },
     "metadata": {},
     "output_type": "display_data"
    }
   ],
   "source": [
    "display(train.head(2))\n",
    "display(test.head(2))"
   ]
  },
  {
   "cell_type": "code",
   "execution_count": 16,
   "id": "2a263ef7",
   "metadata": {},
   "outputs": [
    {
     "data": {
      "text/html": [
       "<div>\n",
       "<style scoped>\n",
       "    .dataframe tbody tr th:only-of-type {\n",
       "        vertical-align: middle;\n",
       "    }\n",
       "\n",
       "    .dataframe tbody tr th {\n",
       "        vertical-align: top;\n",
       "    }\n",
       "\n",
       "    .dataframe thead th {\n",
       "        text-align: right;\n",
       "    }\n",
       "</style>\n",
       "<table border=\"1\" class=\"dataframe\">\n",
       "  <thead>\n",
       "    <tr style=\"text-align: right;\">\n",
       "      <th></th>\n",
       "      <th>hour</th>\n",
       "      <th>demand</th>\n",
       "      <th>day_of_week</th>\n",
       "      <th>week_of_year</th>\n",
       "      <th>day_from_date</th>\n",
       "      <th>month_of_year</th>\n",
       "      <th>quarter</th>\n",
       "      <th>day_of_year</th>\n",
       "      <th>year</th>\n",
       "    </tr>\n",
       "  </thead>\n",
       "  <tbody>\n",
       "    <tr>\n",
       "      <th>count</th>\n",
       "      <td>18247.000000</td>\n",
       "      <td>18247.000000</td>\n",
       "      <td>18247.000000</td>\n",
       "      <td>18247.000000</td>\n",
       "      <td>18247.000000</td>\n",
       "      <td>18247.000000</td>\n",
       "      <td>18247.000000</td>\n",
       "      <td>18247.000000</td>\n",
       "      <td>18247.000000</td>\n",
       "    </tr>\n",
       "    <tr>\n",
       "      <th>mean</th>\n",
       "      <td>12.614731</td>\n",
       "      <td>73.991451</td>\n",
       "      <td>3.025867</td>\n",
       "      <td>26.543706</td>\n",
       "      <td>15.782430</td>\n",
       "      <td>6.470324</td>\n",
       "      <td>2.501233</td>\n",
       "      <td>181.799090</td>\n",
       "      <td>2019.396997</td>\n",
       "    </tr>\n",
       "    <tr>\n",
       "      <th>std</th>\n",
       "      <td>6.544963</td>\n",
       "      <td>41.678988</td>\n",
       "      <td>2.003638</td>\n",
       "      <td>15.828694</td>\n",
       "      <td>8.772904</td>\n",
       "      <td>3.618189</td>\n",
       "      <td>1.167955</td>\n",
       "      <td>110.599321</td>\n",
       "      <td>0.810979</td>\n",
       "    </tr>\n",
       "    <tr>\n",
       "      <th>min</th>\n",
       "      <td>0.000000</td>\n",
       "      <td>1.000000</td>\n",
       "      <td>0.000000</td>\n",
       "      <td>1.000000</td>\n",
       "      <td>1.000000</td>\n",
       "      <td>1.000000</td>\n",
       "      <td>1.000000</td>\n",
       "      <td>1.000000</td>\n",
       "      <td>2018.000000</td>\n",
       "    </tr>\n",
       "    <tr>\n",
       "      <th>25%</th>\n",
       "      <td>8.000000</td>\n",
       "      <td>43.000000</td>\n",
       "      <td>1.000000</td>\n",
       "      <td>12.000000</td>\n",
       "      <td>8.000000</td>\n",
       "      <td>3.000000</td>\n",
       "      <td>1.000000</td>\n",
       "      <td>78.000000</td>\n",
       "      <td>2019.000000</td>\n",
       "    </tr>\n",
       "    <tr>\n",
       "      <th>50%</th>\n",
       "      <td>13.000000</td>\n",
       "      <td>71.000000</td>\n",
       "      <td>3.000000</td>\n",
       "      <td>27.000000</td>\n",
       "      <td>16.000000</td>\n",
       "      <td>7.000000</td>\n",
       "      <td>3.000000</td>\n",
       "      <td>185.000000</td>\n",
       "      <td>2019.000000</td>\n",
       "    </tr>\n",
       "    <tr>\n",
       "      <th>75%</th>\n",
       "      <td>18.000000</td>\n",
       "      <td>98.000000</td>\n",
       "      <td>5.000000</td>\n",
       "      <td>41.000000</td>\n",
       "      <td>23.000000</td>\n",
       "      <td>10.000000</td>\n",
       "      <td>4.000000</td>\n",
       "      <td>282.000000</td>\n",
       "      <td>2020.000000</td>\n",
       "    </tr>\n",
       "    <tr>\n",
       "      <th>max</th>\n",
       "      <td>23.000000</td>\n",
       "      <td>379.000000</td>\n",
       "      <td>6.000000</td>\n",
       "      <td>53.000000</td>\n",
       "      <td>31.000000</td>\n",
       "      <td>12.000000</td>\n",
       "      <td>4.000000</td>\n",
       "      <td>366.000000</td>\n",
       "      <td>2021.000000</td>\n",
       "    </tr>\n",
       "  </tbody>\n",
       "</table>\n",
       "</div>"
      ],
      "text/plain": [
       "               hour        demand   day_of_week  week_of_year  day_from_date  month_of_year       quarter   day_of_year          year\n",
       "count  18247.000000  18247.000000  18247.000000  18247.000000   18247.000000   18247.000000  18247.000000  18247.000000  18247.000000\n",
       "mean      12.614731     73.991451      3.025867     26.543706      15.782430       6.470324      2.501233    181.799090   2019.396997\n",
       "std        6.544963     41.678988      2.003638     15.828694       8.772904       3.618189      1.167955    110.599321      0.810979\n",
       "min        0.000000      1.000000      0.000000      1.000000       1.000000       1.000000      1.000000      1.000000   2018.000000\n",
       "25%        8.000000     43.000000      1.000000     12.000000       8.000000       3.000000      1.000000     78.000000   2019.000000\n",
       "50%       13.000000     71.000000      3.000000     27.000000      16.000000       7.000000      3.000000    185.000000   2019.000000\n",
       "75%       18.000000     98.000000      5.000000     41.000000      23.000000      10.000000      4.000000    282.000000   2020.000000\n",
       "max       23.000000    379.000000      6.000000     53.000000      31.000000      12.000000      4.000000    366.000000   2021.000000"
      ]
     },
     "execution_count": 16,
     "metadata": {},
     "output_type": "execute_result"
    }
   ],
   "source": [
    "# sanity check on features range\n",
    "train.describe()"
   ]
  },
  {
   "cell_type": "code",
   "execution_count": null,
   "id": "384982b0",
   "metadata": {},
   "outputs": [],
   "source": []
  },
  {
   "cell_type": "markdown",
   "id": "eae328a4",
   "metadata": {},
   "source": [
    "# splitting of dataset "
   ]
  },
  {
   "cell_type": "markdown",
   "id": "e17db500",
   "metadata": {},
   "source": [
    "##### Splitting done manually not using function so to keep the max date end of the month and min date start of the month "
   ]
  },
  {
   "cell_type": "code",
   "execution_count": 17,
   "id": "c222f5e6",
   "metadata": {},
   "outputs": [],
   "source": [
    "train_set=train[train.date<'2020-08-01'].copy()\n",
    "validation=train[train.date>='2020-08-01'].copy()"
   ]
  },
  {
   "cell_type": "code",
   "execution_count": 18,
   "id": "d25b76cb",
   "metadata": {},
   "outputs": [],
   "source": [
    "# train,validation=train_test_split(train, test_size=0.22, shuffle=False)\n"
   ]
  },
  {
   "cell_type": "code",
   "execution_count": 19,
   "id": "f94771dd",
   "metadata": {},
   "outputs": [
    {
     "name": "stdout",
     "output_type": "stream",
     "text": [
      "MAX DATES\n"
     ]
    },
    {
     "data": {
      "text/plain": [
       "Timestamp('2020-07-31 00:00:00')"
      ]
     },
     "metadata": {},
     "output_type": "display_data"
    },
    {
     "data": {
      "text/plain": [
       "Timestamp('2021-02-28 00:00:00')"
      ]
     },
     "metadata": {},
     "output_type": "display_data"
    },
    {
     "name": "stdout",
     "output_type": "stream",
     "text": [
      "****************************************************************************************************\n",
      "MIN DATES\n"
     ]
    },
    {
     "data": {
      "text/plain": [
       "Timestamp('2018-08-18 00:00:00')"
      ]
     },
     "metadata": {},
     "output_type": "display_data"
    },
    {
     "data": {
      "text/plain": [
       "Timestamp('2020-08-01 00:00:00')"
      ]
     },
     "metadata": {},
     "output_type": "display_data"
    }
   ],
   "source": [
    "print('MAX DATES')\n",
    "display(train_set.date.max())\n",
    "display(validation.date.max())\n",
    "print('*'*100)\n",
    "print('MIN DATES')\n",
    "display(train_set.date.min())\n",
    "display(validation.date.min())\n"
   ]
  },
  {
   "cell_type": "code",
   "execution_count": null,
   "id": "040e2deb",
   "metadata": {},
   "outputs": [],
   "source": []
  },
  {
   "cell_type": "code",
   "execution_count": 20,
   "id": "d198d97d",
   "metadata": {},
   "outputs": [
    {
     "name": "stdout",
     "output_type": "stream",
     "text": [
      "(14354, 11)\n",
      "(3893, 11)\n"
     ]
    }
   ],
   "source": [
    "print(train_set.shape)\n",
    "print(validation.shape)"
   ]
  },
  {
   "cell_type": "code",
   "execution_count": 21,
   "id": "efba8c99",
   "metadata": {},
   "outputs": [],
   "source": [
    "valid1=validation[validation.date<'2020-12-01'].copy()\n",
    "valid2=validation[validation.date>='2020-12-01'].copy()"
   ]
  },
  {
   "cell_type": "code",
   "execution_count": 22,
   "id": "d1c8576b",
   "metadata": {},
   "outputs": [
    {
     "name": "stdout",
     "output_type": "stream",
     "text": [
      "MAX DATES\n"
     ]
    },
    {
     "data": {
      "text/plain": [
       "Timestamp('2020-11-26 00:00:00')"
      ]
     },
     "metadata": {},
     "output_type": "display_data"
    },
    {
     "data": {
      "text/plain": [
       "Timestamp('2021-02-28 00:00:00')"
      ]
     },
     "metadata": {},
     "output_type": "display_data"
    },
    {
     "name": "stdout",
     "output_type": "stream",
     "text": [
      "****************************************************************************************************\n",
      "MIN DATES\n"
     ]
    },
    {
     "data": {
      "text/plain": [
       "Timestamp('2020-08-01 00:00:00')"
      ]
     },
     "metadata": {},
     "output_type": "display_data"
    },
    {
     "data": {
      "text/plain": [
       "Timestamp('2020-12-27 00:00:00')"
      ]
     },
     "metadata": {},
     "output_type": "display_data"
    }
   ],
   "source": [
    "print('MAX DATES')\n",
    "display(valid1.date.max())\n",
    "display(valid2.date.max())\n",
    "print('*'*100)\n",
    "print('MIN DATES')\n",
    "display(valid1.date.min())\n",
    "display(valid2.date.min())"
   ]
  },
  {
   "cell_type": "markdown",
   "id": "fe14ca83",
   "metadata": {},
   "source": [
    "# EDA"
   ]
  },
  {
   "cell_type": "markdown",
   "id": "81552cae",
   "metadata": {},
   "source": [
    "### demand based on hour"
   ]
  },
  {
   "cell_type": "code",
   "execution_count": 23,
   "id": "77ebbd5f",
   "metadata": {},
   "outputs": [
    {
     "data": {
      "text/plain": [
       "<AxesSubplot:xlabel='hour', ylabel='demand'>"
      ]
     },
     "execution_count": 23,
     "metadata": {},
     "output_type": "execute_result"
    },
    {
     "data": {
      "image/png": "[encoded data removed]",
      "text/plain": [
       "<Figure size 432x288 with 1 Axes>"
      ]
     },
     "metadata": {
      "needs_background": "light"
     },
     "output_type": "display_data"
    }
   ],
   "source": [
    "sns.lineplot(train_set['hour'],train_set['demand'],estimator=sum)"
   ]
  },
  {
   "cell_type": "code",
   "execution_count": null,
   "id": "91695ef9",
   "metadata": {},
   "outputs": [],
   "source": []
  },
  {
   "cell_type": "code",
   "execution_count": 24,
   "id": "1ee36bf2",
   "metadata": {},
   "outputs": [
    {
     "data": {
      "text/html": [
       "<div>\n",
       "<style scoped>\n",
       "    .dataframe tbody tr th:only-of-type {\n",
       "        vertical-align: middle;\n",
       "    }\n",
       "\n",
       "    .dataframe tbody tr th {\n",
       "        vertical-align: top;\n",
       "    }\n",
       "\n",
       "    .dataframe thead th {\n",
       "        text-align: right;\n",
       "    }\n",
       "</style>\n",
       "<table border=\"1\" class=\"dataframe\">\n",
       "  <thead>\n",
       "    <tr style=\"text-align: right;\">\n",
       "      <th></th>\n",
       "      <th>demand</th>\n",
       "    </tr>\n",
       "    <tr>\n",
       "      <th>hour</th>\n",
       "      <th></th>\n",
       "    </tr>\n",
       "  </thead>\n",
       "  <tbody>\n",
       "    <tr>\n",
       "      <th>4</th>\n",
       "      <td>9331</td>\n",
       "    </tr>\n",
       "    <tr>\n",
       "      <th>5</th>\n",
       "      <td>11867</td>\n",
       "    </tr>\n",
       "    <tr>\n",
       "      <th>3</th>\n",
       "      <td>12179</td>\n",
       "    </tr>\n",
       "    <tr>\n",
       "      <th>2</th>\n",
       "      <td>23120</td>\n",
       "    </tr>\n",
       "    <tr>\n",
       "      <th>1</th>\n",
       "      <td>25103</td>\n",
       "    </tr>\n",
       "    <tr>\n",
       "      <th>6</th>\n",
       "      <td>26902</td>\n",
       "    </tr>\n",
       "    <tr>\n",
       "      <th>0</th>\n",
       "      <td>33274</td>\n",
       "    </tr>\n",
       "    <tr>\n",
       "      <th>23</th>\n",
       "      <td>36615</td>\n",
       "    </tr>\n",
       "    <tr>\n",
       "      <th>7</th>\n",
       "      <td>37047</td>\n",
       "    </tr>\n",
       "    <tr>\n",
       "      <th>22</th>\n",
       "      <td>43398</td>\n",
       "    </tr>\n",
       "    <tr>\n",
       "      <th>8</th>\n",
       "      <td>43607</td>\n",
       "    </tr>\n",
       "    <tr>\n",
       "      <th>21</th>\n",
       "      <td>46848</td>\n",
       "    </tr>\n",
       "    <tr>\n",
       "      <th>9</th>\n",
       "      <td>47477</td>\n",
       "    </tr>\n",
       "    <tr>\n",
       "      <th>20</th>\n",
       "      <td>48019</td>\n",
       "    </tr>\n",
       "    <tr>\n",
       "      <th>10</th>\n",
       "      <td>50519</td>\n",
       "    </tr>\n",
       "    <tr>\n",
       "      <th>11</th>\n",
       "      <td>54623</td>\n",
       "    </tr>\n",
       "    <tr>\n",
       "      <th>19</th>\n",
       "      <td>54977</td>\n",
       "    </tr>\n",
       "    <tr>\n",
       "      <th>18</th>\n",
       "      <td>60637</td>\n",
       "    </tr>\n",
       "    <tr>\n",
       "      <th>12</th>\n",
       "      <td>62098</td>\n",
       "    </tr>\n",
       "    <tr>\n",
       "      <th>14</th>\n",
       "      <td>62584</td>\n",
       "    </tr>\n",
       "    <tr>\n",
       "      <th>13</th>\n",
       "      <td>63309</td>\n",
       "    </tr>\n",
       "    <tr>\n",
       "      <th>16</th>\n",
       "      <td>63504</td>\n",
       "    </tr>\n",
       "    <tr>\n",
       "      <th>17</th>\n",
       "      <td>63573</td>\n",
       "    </tr>\n",
       "    <tr>\n",
       "      <th>15</th>\n",
       "      <td>64463</td>\n",
       "    </tr>\n",
       "  </tbody>\n",
       "</table>\n",
       "</div>"
      ],
      "text/plain": [
       "      demand\n",
       "hour        \n",
       "4       9331\n",
       "5      11867\n",
       "3      12179\n",
       "2      23120\n",
       "1      25103\n",
       "6      26902\n",
       "0      33274\n",
       "23     36615\n",
       "7      37047\n",
       "22     43398\n",
       "8      43607\n",
       "21     46848\n",
       "9      47477\n",
       "20     48019\n",
       "10     50519\n",
       "11     54623\n",
       "19     54977\n",
       "18     60637\n",
       "12     62098\n",
       "14     62584\n",
       "13     63309\n",
       "16     63504\n",
       "17     63573\n",
       "15     64463"
      ]
     },
     "execution_count": 24,
     "metadata": {},
     "output_type": "execute_result"
    }
   ],
   "source": [
    "pd.DataFrame(train_set.groupby('hour')['demand'].sum()).sort_values(by='demand')"
   ]
  },
  {
   "cell_type": "markdown",
   "id": "26f17be5",
   "metadata": {},
   "source": [
    "------- INFERENCE: Can be said that 10 to 18 hrs have high demand -----\n",
    "\n",
    "------- bucketisation of hours can be done based on time(morning(5- 10) afternoon(10 - 14))---------"
   ]
  },
  {
   "cell_type": "markdown",
   "id": "ee7502b4",
   "metadata": {},
   "source": [
    "### demand based on month_of_year"
   ]
  },
  {
   "cell_type": "code",
   "execution_count": 25,
   "id": "52aa50e0",
   "metadata": {},
   "outputs": [
    {
     "data": {
      "text/html": [
       "<div>\n",
       "<style scoped>\n",
       "    .dataframe tbody tr th:only-of-type {\n",
       "        vertical-align: middle;\n",
       "    }\n",
       "\n",
       "    .dataframe tbody tr th {\n",
       "        vertical-align: top;\n",
       "    }\n",
       "\n",
       "    .dataframe thead th {\n",
       "        text-align: right;\n",
       "    }\n",
       "</style>\n",
       "<table border=\"1\" class=\"dataframe\">\n",
       "  <thead>\n",
       "    <tr style=\"text-align: right;\">\n",
       "      <th></th>\n",
       "      <th>demand</th>\n",
       "    </tr>\n",
       "    <tr>\n",
       "      <th>month_of_year</th>\n",
       "      <th></th>\n",
       "    </tr>\n",
       "  </thead>\n",
       "  <tbody>\n",
       "    <tr>\n",
       "      <th>11</th>\n",
       "      <td>120345</td>\n",
       "    </tr>\n",
       "    <tr>\n",
       "      <th>6</th>\n",
       "      <td>104748</td>\n",
       "    </tr>\n",
       "    <tr>\n",
       "      <th>3</th>\n",
       "      <td>98598</td>\n",
       "    </tr>\n",
       "    <tr>\n",
       "      <th>5</th>\n",
       "      <td>98089</td>\n",
       "    </tr>\n",
       "    <tr>\n",
       "      <th>12</th>\n",
       "      <td>97795</td>\n",
       "    </tr>\n",
       "    <tr>\n",
       "      <th>1</th>\n",
       "      <td>94543</td>\n",
       "    </tr>\n",
       "    <tr>\n",
       "      <th>2</th>\n",
       "      <td>85517</td>\n",
       "    </tr>\n",
       "    <tr>\n",
       "      <th>4</th>\n",
       "      <td>85138</td>\n",
       "    </tr>\n",
       "    <tr>\n",
       "      <th>7</th>\n",
       "      <td>80305</td>\n",
       "    </tr>\n",
       "    <tr>\n",
       "      <th>10</th>\n",
       "      <td>72415</td>\n",
       "    </tr>\n",
       "    <tr>\n",
       "      <th>9</th>\n",
       "      <td>59418</td>\n",
       "    </tr>\n",
       "    <tr>\n",
       "      <th>8</th>\n",
       "      <td>48163</td>\n",
       "    </tr>\n",
       "  </tbody>\n",
       "</table>\n",
       "</div>"
      ],
      "text/plain": [
       "               demand\n",
       "month_of_year        \n",
       "11             120345\n",
       "6              104748\n",
       "3               98598\n",
       "5               98089\n",
       "12              97795\n",
       "1               94543\n",
       "2               85517\n",
       "4               85138\n",
       "7               80305\n",
       "10              72415\n",
       "9               59418\n",
       "8               48163"
      ]
     },
     "execution_count": 25,
     "metadata": {},
     "output_type": "execute_result"
    }
   ],
   "source": [
    "pd.DataFrame(train_set.groupby('month_of_year')['demand'].sum()).sort_values(by='demand',ascending=False)"
   ]
  },
  {
   "cell_type": "code",
   "execution_count": 26,
   "id": "6c242605",
   "metadata": {},
   "outputs": [
    {
     "data": {
      "text/plain": [
       "<AxesSubplot:xlabel='month_of_year', ylabel='demand'>"
      ]
     },
     "execution_count": 26,
     "metadata": {},
     "output_type": "execute_result"
    },
    {
     "data": {
      "image/png": "[encoded data removed]",
      "text/plain": [
       "<Figure size 432x288 with 1 Axes>"
      ]
     },
     "metadata": {
      "needs_background": "light"
     },
     "output_type": "display_data"
    }
   ],
   "source": [
    "sns.lineplot(train_set['month_of_year'],train_set['demand'],estimator=sum)"
   ]
  },
  {
   "cell_type": "code",
   "execution_count": 27,
   "id": "20864129",
   "metadata": {},
   "outputs": [
    {
     "data": {
      "text/html": [
       "<div>\n",
       "<style scoped>\n",
       "    .dataframe tbody tr th:only-of-type {\n",
       "        vertical-align: middle;\n",
       "    }\n",
       "\n",
       "    .dataframe tbody tr th {\n",
       "        vertical-align: top;\n",
       "    }\n",
       "\n",
       "    .dataframe thead th {\n",
       "        text-align: right;\n",
       "    }\n",
       "</style>\n",
       "<table border=\"1\" class=\"dataframe\">\n",
       "  <thead>\n",
       "    <tr style=\"text-align: right;\">\n",
       "      <th></th>\n",
       "      <th>demand</th>\n",
       "    </tr>\n",
       "    <tr>\n",
       "      <th>month_of_year</th>\n",
       "      <th></th>\n",
       "    </tr>\n",
       "  </thead>\n",
       "  <tbody>\n",
       "    <tr>\n",
       "      <th>3</th>\n",
       "      <td>1346</td>\n",
       "    </tr>\n",
       "    <tr>\n",
       "      <th>5</th>\n",
       "      <td>1321</td>\n",
       "    </tr>\n",
       "    <tr>\n",
       "      <th>1</th>\n",
       "      <td>1282</td>\n",
       "    </tr>\n",
       "    <tr>\n",
       "      <th>6</th>\n",
       "      <td>1281</td>\n",
       "    </tr>\n",
       "    <tr>\n",
       "      <th>12</th>\n",
       "      <td>1280</td>\n",
       "    </tr>\n",
       "    <tr>\n",
       "      <th>11</th>\n",
       "      <td>1263</td>\n",
       "    </tr>\n",
       "    <tr>\n",
       "      <th>4</th>\n",
       "      <td>1258</td>\n",
       "    </tr>\n",
       "    <tr>\n",
       "      <th>7</th>\n",
       "      <td>1214</td>\n",
       "    </tr>\n",
       "    <tr>\n",
       "      <th>2</th>\n",
       "      <td>1202</td>\n",
       "    </tr>\n",
       "    <tr>\n",
       "      <th>10</th>\n",
       "      <td>1140</td>\n",
       "    </tr>\n",
       "    <tr>\n",
       "      <th>9</th>\n",
       "      <td>992</td>\n",
       "    </tr>\n",
       "    <tr>\n",
       "      <th>8</th>\n",
       "      <td>775</td>\n",
       "    </tr>\n",
       "  </tbody>\n",
       "</table>\n",
       "</div>"
      ],
      "text/plain": [
       "               demand\n",
       "month_of_year        \n",
       "3                1346\n",
       "5                1321\n",
       "1                1282\n",
       "6                1281\n",
       "12               1280\n",
       "11               1263\n",
       "4                1258\n",
       "7                1214\n",
       "2                1202\n",
       "10               1140\n",
       "9                 992\n",
       "8                 775"
      ]
     },
     "execution_count": 27,
     "metadata": {},
     "output_type": "execute_result"
    }
   ],
   "source": [
    "pd.DataFrame(train_set.groupby('month_of_year')['demand'].count()).sort_values(by='demand',ascending=False)"
   ]
  },
  {
   "cell_type": "markdown",
   "id": "c3ac4e14",
   "metadata": {},
   "source": [
    "-------------- INFERENCE:NO NOTICABLE PATTERNS VISIBLE ----------\n",
    "\n"
   ]
  },
  {
   "cell_type": "markdown",
   "id": "9484c128",
   "metadata": {},
   "source": [
    "### demand based on day_of_week"
   ]
  },
  {
   "cell_type": "code",
   "execution_count": 28,
   "id": "bde0eee4",
   "metadata": {},
   "outputs": [
    {
     "data": {
      "text/plain": [
       "Text(0, 0.5, 'sum of demands')"
      ]
     },
     "execution_count": 28,
     "metadata": {},
     "output_type": "execute_result"
    },
    {
     "data": {
      "image/png": "[encoded data removed]",
      "text/plain": [
       "<Figure size 432x288 with 1 Axes>"
      ]
     },
     "metadata": {
      "needs_background": "light"
     },
     "output_type": "display_data"
    }
   ],
   "source": [
    "train_set.groupby('day_of_week')['demand'].sum().plot.bar()\n",
    "plt.xticks(rotation='vertical') ## TO MAKE LABELS IN X AXIS VERTICALLY ROTATED SO WE HAVE SPACE BETWEEN TWO LABLES\n",
    "plt.ylabel(\"sum of demands\")"
   ]
  },
  {
   "cell_type": "code",
   "execution_count": 29,
   "id": "c9897191",
   "metadata": {},
   "outputs": [
    {
     "data": {
      "text/plain": [
       "<AxesSubplot:xlabel='day_of_week', ylabel='demand'>"
      ]
     },
     "execution_count": 29,
     "metadata": {},
     "output_type": "execute_result"
    },
    {
     "data": {
      "image/png": "[encoded data removed]",
      "text/plain": [
       "<Figure size 432x288 with 1 Axes>"
      ]
     },
     "metadata": {
      "needs_background": "light"
     },
     "output_type": "display_data"
    }
   ],
   "source": [
    "sns.lineplot(train_set['day_of_week'],train_set['demand'],estimator=sum)"
   ]
  },
  {
   "cell_type": "code",
   "execution_count": 30,
   "id": "41fea3f6",
   "metadata": {},
   "outputs": [
    {
     "data": {
      "text/html": [
       "<div>\n",
       "<style scoped>\n",
       "    .dataframe tbody tr th:only-of-type {\n",
       "        vertical-align: middle;\n",
       "    }\n",
       "\n",
       "    .dataframe tbody tr th {\n",
       "        vertical-align: top;\n",
       "    }\n",
       "\n",
       "    .dataframe thead th {\n",
       "        text-align: right;\n",
       "    }\n",
       "</style>\n",
       "<table border=\"1\" class=\"dataframe\">\n",
       "  <thead>\n",
       "    <tr style=\"text-align: right;\">\n",
       "      <th></th>\n",
       "      <th>demand</th>\n",
       "    </tr>\n",
       "    <tr>\n",
       "      <th>day_of_week</th>\n",
       "      <th></th>\n",
       "    </tr>\n",
       "  </thead>\n",
       "  <tbody>\n",
       "    <tr>\n",
       "      <th>1</th>\n",
       "      <td>133358</td>\n",
       "    </tr>\n",
       "    <tr>\n",
       "      <th>2</th>\n",
       "      <td>134499</td>\n",
       "    </tr>\n",
       "    <tr>\n",
       "      <th>0</th>\n",
       "      <td>137953</td>\n",
       "    </tr>\n",
       "    <tr>\n",
       "      <th>3</th>\n",
       "      <td>137977</td>\n",
       "    </tr>\n",
       "    <tr>\n",
       "      <th>4</th>\n",
       "      <td>157394</td>\n",
       "    </tr>\n",
       "    <tr>\n",
       "      <th>6</th>\n",
       "      <td>164965</td>\n",
       "    </tr>\n",
       "    <tr>\n",
       "      <th>5</th>\n",
       "      <td>178928</td>\n",
       "    </tr>\n",
       "  </tbody>\n",
       "</table>\n",
       "</div>"
      ],
      "text/plain": [
       "             demand\n",
       "day_of_week        \n",
       "1            133358\n",
       "2            134499\n",
       "0            137953\n",
       "3            137977\n",
       "4            157394\n",
       "6            164965\n",
       "5            178928"
      ]
     },
     "execution_count": 30,
     "metadata": {},
     "output_type": "execute_result"
    }
   ],
   "source": [
    "pd.DataFrame(train_set.groupby('day_of_week')['demand'].sum()).sort_values(by='demand')"
   ]
  },
  {
   "cell_type": "markdown",
   "id": "db0ca069",
   "metadata": {},
   "source": [
    "---------------- INFERENCE:  4,5,6 OR WEEKENDS HAVE HIGH DEMAND --------------"
   ]
  },
  {
   "cell_type": "markdown",
   "id": "5903bdec",
   "metadata": {},
   "source": [
    "### demand based on week_of_year"
   ]
  },
  {
   "cell_type": "code",
   "execution_count": 31,
   "id": "fc3b09bc",
   "metadata": {},
   "outputs": [
    {
     "data": {
      "text/plain": [
       "<AxesSubplot:xlabel='week_of_year', ylabel='demand'>"
      ]
     },
     "execution_count": 31,
     "metadata": {},
     "output_type": "execute_result"
    },
    {
     "data": {
      "image/png": "[encoded data removed]",
      "text/plain": [
       "<Figure size 432x288 with 1 Axes>"
      ]
     },
     "metadata": {
      "needs_background": "light"
     },
     "output_type": "display_data"
    }
   ],
   "source": [
    "sns.lineplot(train_set['week_of_year'],train_set['demand'],estimator=sum)"
   ]
  },
  {
   "cell_type": "code",
   "execution_count": 32,
   "id": "55c6f207",
   "metadata": {},
   "outputs": [
    {
     "data": {
      "text/plain": [
       "Text(0, 0.5, 'count of demands')"
      ]
     },
     "execution_count": 32,
     "metadata": {},
     "output_type": "execute_result"
    },
    {
     "data": {
      "image/png": "[encoded data removed]",
      "text/plain": [
       "<Figure size 432x288 with 1 Axes>"
      ]
     },
     "metadata": {
      "needs_background": "light"
     },
     "output_type": "display_data"
    }
   ],
   "source": [
    "train_set.groupby('week_of_year')['demand'].count().plot.bar()\n",
    "plt.xticks(rotation='vertical') ## TO MAKE LABELS IN X AXIS VERTICALLY ROTATED SO WE HAVE SPACE BETWEEN TWO LABLES\n",
    "plt.ylabel(\"count of demands\")"
   ]
  },
  {
   "cell_type": "code",
   "execution_count": 33,
   "id": "4ceb628d",
   "metadata": {},
   "outputs": [
    {
     "data": {
      "text/html": [
       "<div>\n",
       "<style scoped>\n",
       "    .dataframe tbody tr th:only-of-type {\n",
       "        vertical-align: middle;\n",
       "    }\n",
       "\n",
       "    .dataframe tbody tr th {\n",
       "        vertical-align: top;\n",
       "    }\n",
       "\n",
       "    .dataframe thead th {\n",
       "        text-align: right;\n",
       "    }\n",
       "</style>\n",
       "<table border=\"1\" class=\"dataframe\">\n",
       "  <thead>\n",
       "    <tr style=\"text-align: right;\">\n",
       "      <th></th>\n",
       "      <th>demand</th>\n",
       "    </tr>\n",
       "    <tr>\n",
       "      <th>week_of_year</th>\n",
       "      <th></th>\n",
       "    </tr>\n",
       "  </thead>\n",
       "  <tbody>\n",
       "    <tr>\n",
       "      <th>32</th>\n",
       "      <td>8039</td>\n",
       "    </tr>\n",
       "    <tr>\n",
       "      <th>33</th>\n",
       "      <td>10053</td>\n",
       "    </tr>\n",
       "    <tr>\n",
       "      <th>36</th>\n",
       "      <td>12232</td>\n",
       "    </tr>\n",
       "    <tr>\n",
       "      <th>35</th>\n",
       "      <td>12567</td>\n",
       "    </tr>\n",
       "    <tr>\n",
       "      <th>39</th>\n",
       "      <td>13420</td>\n",
       "    </tr>\n",
       "    <tr>\n",
       "      <th>43</th>\n",
       "      <td>13564</td>\n",
       "    </tr>\n",
       "    <tr>\n",
       "      <th>34</th>\n",
       "      <td>14477</td>\n",
       "    </tr>\n",
       "    <tr>\n",
       "      <th>38</th>\n",
       "      <td>14692</td>\n",
       "    </tr>\n",
       "    <tr>\n",
       "      <th>31</th>\n",
       "      <td>14864</td>\n",
       "    </tr>\n",
       "    <tr>\n",
       "      <th>40</th>\n",
       "      <td>15417</td>\n",
       "    </tr>\n",
       "    <tr>\n",
       "      <th>37</th>\n",
       "      <td>15838</td>\n",
       "    </tr>\n",
       "    <tr>\n",
       "      <th>30</th>\n",
       "      <td>16624</td>\n",
       "    </tr>\n",
       "    <tr>\n",
       "      <th>42</th>\n",
       "      <td>17941</td>\n",
       "    </tr>\n",
       "    <tr>\n",
       "      <th>17</th>\n",
       "      <td>18114</td>\n",
       "    </tr>\n",
       "    <tr>\n",
       "      <th>29</th>\n",
       "      <td>18166</td>\n",
       "    </tr>\n",
       "    <tr>\n",
       "      <th>28</th>\n",
       "      <td>18343</td>\n",
       "    </tr>\n",
       "    <tr>\n",
       "      <th>44</th>\n",
       "      <td>18353</td>\n",
       "    </tr>\n",
       "    <tr>\n",
       "      <th>15</th>\n",
       "      <td>19313</td>\n",
       "    </tr>\n",
       "    <tr>\n",
       "      <th>41</th>\n",
       "      <td>19315</td>\n",
       "    </tr>\n",
       "    <tr>\n",
       "      <th>25</th>\n",
       "      <td>19872</td>\n",
       "    </tr>\n",
       "    <tr>\n",
       "      <th>2</th>\n",
       "      <td>20087</td>\n",
       "    </tr>\n",
       "    <tr>\n",
       "      <th>7</th>\n",
       "      <td>20208</td>\n",
       "    </tr>\n",
       "    <tr>\n",
       "      <th>19</th>\n",
       "      <td>20330</td>\n",
       "    </tr>\n",
       "    <tr>\n",
       "      <th>6</th>\n",
       "      <td>20431</td>\n",
       "    </tr>\n",
       "    <tr>\n",
       "      <th>16</th>\n",
       "      <td>20454</td>\n",
       "    </tr>\n",
       "    <tr>\n",
       "      <th>13</th>\n",
       "      <td>20665</td>\n",
       "    </tr>\n",
       "    <tr>\n",
       "      <th>27</th>\n",
       "      <td>20670</td>\n",
       "    </tr>\n",
       "    <tr>\n",
       "      <th>20</th>\n",
       "      <td>20688</td>\n",
       "    </tr>\n",
       "    <tr>\n",
       "      <th>8</th>\n",
       "      <td>20700</td>\n",
       "    </tr>\n",
       "    <tr>\n",
       "      <th>18</th>\n",
       "      <td>20950</td>\n",
       "    </tr>\n",
       "    <tr>\n",
       "      <th>48</th>\n",
       "      <td>20953</td>\n",
       "    </tr>\n",
       "    <tr>\n",
       "      <th>4</th>\n",
       "      <td>21299</td>\n",
       "    </tr>\n",
       "    <tr>\n",
       "      <th>1</th>\n",
       "      <td>21417</td>\n",
       "    </tr>\n",
       "    <tr>\n",
       "      <th>49</th>\n",
       "      <td>21536</td>\n",
       "    </tr>\n",
       "    <tr>\n",
       "      <th>3</th>\n",
       "      <td>21686</td>\n",
       "    </tr>\n",
       "    <tr>\n",
       "      <th>14</th>\n",
       "      <td>21798</td>\n",
       "    </tr>\n",
       "    <tr>\n",
       "      <th>10</th>\n",
       "      <td>21864</td>\n",
       "    </tr>\n",
       "    <tr>\n",
       "      <th>12</th>\n",
       "      <td>21881</td>\n",
       "    </tr>\n",
       "    <tr>\n",
       "      <th>52</th>\n",
       "      <td>21967</td>\n",
       "    </tr>\n",
       "    <tr>\n",
       "      <th>21</th>\n",
       "      <td>22115</td>\n",
       "    </tr>\n",
       "    <tr>\n",
       "      <th>11</th>\n",
       "      <td>22351</td>\n",
       "    </tr>\n",
       "    <tr>\n",
       "      <th>47</th>\n",
       "      <td>22592</td>\n",
       "    </tr>\n",
       "    <tr>\n",
       "      <th>51</th>\n",
       "      <td>22695</td>\n",
       "    </tr>\n",
       "    <tr>\n",
       "      <th>5</th>\n",
       "      <td>22757</td>\n",
       "    </tr>\n",
       "    <tr>\n",
       "      <th>50</th>\n",
       "      <td>22884</td>\n",
       "    </tr>\n",
       "    <tr>\n",
       "      <th>26</th>\n",
       "      <td>23299</td>\n",
       "    </tr>\n",
       "    <tr>\n",
       "      <th>9</th>\n",
       "      <td>24358</td>\n",
       "    </tr>\n",
       "    <tr>\n",
       "      <th>24</th>\n",
       "      <td>24733</td>\n",
       "    </tr>\n",
       "    <tr>\n",
       "      <th>23</th>\n",
       "      <td>28081</td>\n",
       "    </tr>\n",
       "    <tr>\n",
       "      <th>22</th>\n",
       "      <td>28532</td>\n",
       "    </tr>\n",
       "    <tr>\n",
       "      <th>46</th>\n",
       "      <td>31589</td>\n",
       "    </tr>\n",
       "    <tr>\n",
       "      <th>45</th>\n",
       "      <td>38300</td>\n",
       "    </tr>\n",
       "  </tbody>\n",
       "</table>\n",
       "</div>"
      ],
      "text/plain": [
       "              demand\n",
       "week_of_year        \n",
       "32              8039\n",
       "33             10053\n",
       "36             12232\n",
       "35             12567\n",
       "39             13420\n",
       "43             13564\n",
       "34             14477\n",
       "38             14692\n",
       "31             14864\n",
       "40             15417\n",
       "37             15838\n",
       "30             16624\n",
       "42             17941\n",
       "17             18114\n",
       "29             18166\n",
       "28             18343\n",
       "44             18353\n",
       "15             19313\n",
       "41             19315\n",
       "25             19872\n",
       "2              20087\n",
       "7              20208\n",
       "19             20330\n",
       "6              20431\n",
       "16             20454\n",
       "13             20665\n",
       "27             20670\n",
       "20             20688\n",
       "8              20700\n",
       "18             20950\n",
       "48             20953\n",
       "4              21299\n",
       "1              21417\n",
       "49             21536\n",
       "3              21686\n",
       "14             21798\n",
       "10             21864\n",
       "12             21881\n",
       "52             21967\n",
       "21             22115\n",
       "11             22351\n",
       "47             22592\n",
       "51             22695\n",
       "5              22757\n",
       "50             22884\n",
       "26             23299\n",
       "9              24358\n",
       "24             24733\n",
       "23             28081\n",
       "22             28532\n",
       "46             31589\n",
       "45             38300"
      ]
     },
     "execution_count": 33,
     "metadata": {},
     "output_type": "execute_result"
    }
   ],
   "source": [
    "pd.DataFrame(train_set.groupby('week_of_year')['demand'].sum()).sort_values(by='demand')"
   ]
  },
  {
   "cell_type": "markdown",
   "id": "c680b0ee",
   "metadata": {},
   "source": [
    "### demand based on day_from_date "
   ]
  },
  {
   "cell_type": "code",
   "execution_count": 34,
   "id": "5d42a9f2",
   "metadata": {},
   "outputs": [
    {
     "data": {
      "text/plain": [
       "<AxesSubplot:xlabel='day_from_date', ylabel='demand'>"
      ]
     },
     "execution_count": 34,
     "metadata": {},
     "output_type": "execute_result"
    },
    {
     "data": {
      "image/png": "[encoded data removed]",
      "text/plain": [
       "<Figure size 432x288 with 1 Axes>"
      ]
     },
     "metadata": {
      "needs_background": "light"
     },
     "output_type": "display_data"
    }
   ],
   "source": [
    "sns.lineplot(train_set['day_from_date'],train_set['demand'],estimator=sum)"
   ]
  },
  {
   "cell_type": "code",
   "execution_count": 35,
   "id": "2ded6617",
   "metadata": {},
   "outputs": [
    {
     "data": {
      "text/html": [
       "<div>\n",
       "<style scoped>\n",
       "    .dataframe tbody tr th:only-of-type {\n",
       "        vertical-align: middle;\n",
       "    }\n",
       "\n",
       "    .dataframe tbody tr th {\n",
       "        vertical-align: top;\n",
       "    }\n",
       "\n",
       "    .dataframe thead th {\n",
       "        text-align: right;\n",
       "    }\n",
       "</style>\n",
       "<table border=\"1\" class=\"dataframe\">\n",
       "  <thead>\n",
       "    <tr style=\"text-align: right;\">\n",
       "      <th></th>\n",
       "      <th>demand</th>\n",
       "    </tr>\n",
       "    <tr>\n",
       "      <th>day_from_date</th>\n",
       "      <th></th>\n",
       "    </tr>\n",
       "  </thead>\n",
       "  <tbody>\n",
       "    <tr>\n",
       "      <th>9</th>\n",
       "      <td>38140</td>\n",
       "    </tr>\n",
       "    <tr>\n",
       "      <th>14</th>\n",
       "      <td>37399</td>\n",
       "    </tr>\n",
       "    <tr>\n",
       "      <th>10</th>\n",
       "      <td>37392</td>\n",
       "    </tr>\n",
       "    <tr>\n",
       "      <th>8</th>\n",
       "      <td>36875</td>\n",
       "    </tr>\n",
       "    <tr>\n",
       "      <th>12</th>\n",
       "      <td>35958</td>\n",
       "    </tr>\n",
       "    <tr>\n",
       "      <th>15</th>\n",
       "      <td>35613</td>\n",
       "    </tr>\n",
       "    <tr>\n",
       "      <th>6</th>\n",
       "      <td>35468</td>\n",
       "    </tr>\n",
       "    <tr>\n",
       "      <th>2</th>\n",
       "      <td>35251</td>\n",
       "    </tr>\n",
       "    <tr>\n",
       "      <th>7</th>\n",
       "      <td>35014</td>\n",
       "    </tr>\n",
       "    <tr>\n",
       "      <th>19</th>\n",
       "      <td>34857</td>\n",
       "    </tr>\n",
       "    <tr>\n",
       "      <th>17</th>\n",
       "      <td>34523</td>\n",
       "    </tr>\n",
       "    <tr>\n",
       "      <th>13</th>\n",
       "      <td>34513</td>\n",
       "    </tr>\n",
       "    <tr>\n",
       "      <th>1</th>\n",
       "      <td>34244</td>\n",
       "    </tr>\n",
       "    <tr>\n",
       "      <th>11</th>\n",
       "      <td>34164</td>\n",
       "    </tr>\n",
       "    <tr>\n",
       "      <th>22</th>\n",
       "      <td>34157</td>\n",
       "    </tr>\n",
       "    <tr>\n",
       "      <th>27</th>\n",
       "      <td>34040</td>\n",
       "    </tr>\n",
       "    <tr>\n",
       "      <th>29</th>\n",
       "      <td>33995</td>\n",
       "    </tr>\n",
       "    <tr>\n",
       "      <th>5</th>\n",
       "      <td>33910</td>\n",
       "    </tr>\n",
       "    <tr>\n",
       "      <th>16</th>\n",
       "      <td>33888</td>\n",
       "    </tr>\n",
       "    <tr>\n",
       "      <th>4</th>\n",
       "      <td>33537</td>\n",
       "    </tr>\n",
       "    <tr>\n",
       "      <th>23</th>\n",
       "      <td>33374</td>\n",
       "    </tr>\n",
       "    <tr>\n",
       "      <th>28</th>\n",
       "      <td>33074</td>\n",
       "    </tr>\n",
       "    <tr>\n",
       "      <th>21</th>\n",
       "      <td>32827</td>\n",
       "    </tr>\n",
       "    <tr>\n",
       "      <th>20</th>\n",
       "      <td>32693</td>\n",
       "    </tr>\n",
       "    <tr>\n",
       "      <th>26</th>\n",
       "      <td>32202</td>\n",
       "    </tr>\n",
       "    <tr>\n",
       "      <th>24</th>\n",
       "      <td>32105</td>\n",
       "    </tr>\n",
       "    <tr>\n",
       "      <th>18</th>\n",
       "      <td>31844</td>\n",
       "    </tr>\n",
       "    <tr>\n",
       "      <th>25</th>\n",
       "      <td>31650</td>\n",
       "    </tr>\n",
       "    <tr>\n",
       "      <th>30</th>\n",
       "      <td>30632</td>\n",
       "    </tr>\n",
       "    <tr>\n",
       "      <th>3</th>\n",
       "      <td>30543</td>\n",
       "    </tr>\n",
       "    <tr>\n",
       "      <th>31</th>\n",
       "      <td>21192</td>\n",
       "    </tr>\n",
       "  </tbody>\n",
       "</table>\n",
       "</div>"
      ],
      "text/plain": [
       "               demand\n",
       "day_from_date        \n",
       "9               38140\n",
       "14              37399\n",
       "10              37392\n",
       "8               36875\n",
       "12              35958\n",
       "15              35613\n",
       "6               35468\n",
       "2               35251\n",
       "7               35014\n",
       "19              34857\n",
       "17              34523\n",
       "13              34513\n",
       "1               34244\n",
       "11              34164\n",
       "22              34157\n",
       "27              34040\n",
       "29              33995\n",
       "5               33910\n",
       "16              33888\n",
       "4               33537\n",
       "23              33374\n",
       "28              33074\n",
       "21              32827\n",
       "20              32693\n",
       "26              32202\n",
       "24              32105\n",
       "18              31844\n",
       "25              31650\n",
       "30              30632\n",
       "3               30543\n",
       "31              21192"
      ]
     },
     "execution_count": 35,
     "metadata": {},
     "output_type": "execute_result"
    }
   ],
   "source": [
    "pd.DataFrame(train_set.groupby('day_from_date')['demand'].sum()).sort_values(by='demand',ascending=False)"
   ]
  },
  {
   "cell_type": "code",
   "execution_count": 36,
   "id": "6c67758c",
   "metadata": {},
   "outputs": [
    {
     "data": {
      "text/plain": [
       "Text(0, 0.5, 'count of demands')"
      ]
     },
     "execution_count": 36,
     "metadata": {},
     "output_type": "execute_result"
    },
    {
     "data": {
      "image/png": "[encoded data removed]",
      "text/plain": [
       "<Figure size 432x288 with 1 Axes>"
      ]
     },
     "metadata": {
      "needs_background": "light"
     },
     "output_type": "display_data"
    }
   ],
   "source": [
    "train_set.groupby('day_from_date')['demand'].count().plot.bar()\n",
    "plt.xticks(rotation='vertical') ## TO MAKE LABELS IN X AXIS VERTICALLY ROTATED SO WE HAVE SPACE BETWEEN TWO LABLES\n",
    "plt.ylabel(\"count of demands\")"
   ]
  },
  {
   "cell_type": "markdown",
   "id": "a1a69220",
   "metadata": {},
   "source": [
    "--------------- INFERENCE: LAST DAY OF MONTH HAS LOW DEMAND BUT THAT CAN ALSO BE DUE TO THE FACE THAT SOME MONTHS\n",
    "END WITH 31, SOME WITH 30 ------------------\n"
   ]
  },
  {
   "cell_type": "markdown",
   "id": "48329a51",
   "metadata": {},
   "source": [
    "### demand based on quarter "
   ]
  },
  {
   "cell_type": "code",
   "execution_count": 37,
   "id": "a7d3fdfe",
   "metadata": {},
   "outputs": [
    {
     "data": {
      "text/plain": [
       "<AxesSubplot:xlabel='quarter', ylabel='demand'>"
      ]
     },
     "execution_count": 37,
     "metadata": {},
     "output_type": "execute_result"
    },
    {
     "data": {
      "image/png": "[encoded data removed]",
      "text/plain": [
       "<Figure size 432x288 with 1 Axes>"
      ]
     },
     "metadata": {
      "needs_background": "light"
     },
     "output_type": "display_data"
    }
   ],
   "source": [
    "sns.lineplot(train_set['quarter'],train_set['demand'],estimator=sum)"
   ]
  },
  {
   "cell_type": "code",
   "execution_count": 38,
   "id": "3ab69ac7",
   "metadata": {},
   "outputs": [
    {
     "data": {
      "text/plain": [
       "Text(0, 0.5, 'sum of demands')"
      ]
     },
     "execution_count": 38,
     "metadata": {},
     "output_type": "execute_result"
    },
    {
     "data": {
      "image/png": "[encoded data removed]",
      "text/plain": [
       "<Figure size 432x288 with 1 Axes>"
      ]
     },
     "metadata": {
      "needs_background": "light"
     },
     "output_type": "display_data"
    }
   ],
   "source": [
    "train_set.groupby('quarter')['demand'].sum().plot.bar()\n",
    "plt.xticks(rotation='vertical') ## TO MAKE LABELS IN X AXIS VERTICALLY ROTATED SO WE HAVE SPACE BETWEEN TWO LABLES\n",
    "plt.ylabel(\"sum of demands\")"
   ]
  },
  {
   "cell_type": "code",
   "execution_count": 39,
   "id": "8ff5ce8f",
   "metadata": {
    "scrolled": true
   },
   "outputs": [
    {
     "data": {
      "text/plain": [
       "quarter  month_of_year\n",
       "1        1                 94543\n",
       "         2                 85517\n",
       "         3                 98598\n",
       "2        4                 85138\n",
       "         5                 98089\n",
       "         6                104748\n",
       "3        7                 80305\n",
       "         8                 48163\n",
       "         9                 59418\n",
       "4        10                72415\n",
       "         11               120345\n",
       "         12                97795\n",
       "Name: demand, dtype: int64"
      ]
     },
     "execution_count": 39,
     "metadata": {},
     "output_type": "execute_result"
    }
   ],
   "source": [
    "train_set.groupby(['quarter','month_of_year'])['demand'].sum()"
   ]
  },
  {
   "cell_type": "code",
   "execution_count": 40,
   "id": "dc665b8e",
   "metadata": {},
   "outputs": [
    {
     "data": {
      "text/plain": [
       "quarter  month_of_year\n",
       "1        1                1282\n",
       "         2                1202\n",
       "         3                1346\n",
       "2        4                1258\n",
       "         5                1321\n",
       "         6                1281\n",
       "3        7                1214\n",
       "         8                 775\n",
       "         9                 992\n",
       "4        10               1140\n",
       "         11               1263\n",
       "         12               1280\n",
       "Name: demand, dtype: int64"
      ]
     },
     "execution_count": 40,
     "metadata": {},
     "output_type": "execute_result"
    }
   ],
   "source": [
    "train_set.groupby(['quarter','month_of_year'])['demand'].count()"
   ]
  },
  {
   "cell_type": "markdown",
   "id": "ea04f293",
   "metadata": {},
   "source": [
    "---------------- INFERENCE: QUARTER 3 HAS VERY LESS NUMBERS THAN USUAL---------------\n",
    "\n",
    "-----------------(REASON MAY BE BE BECAUSE OF  RAINY SEASON IN BENGALURU IN THESE MONTHS----------"
   ]
  },
  {
   "cell_type": "code",
   "execution_count": null,
   "id": "512c31d6",
   "metadata": {},
   "outputs": [],
   "source": []
  },
  {
   "cell_type": "markdown",
   "id": "2eb64c13",
   "metadata": {},
   "source": [
    "### a feature engineering step: Making Hour buckets"
   ]
  },
  {
   "cell_type": "code",
   "execution_count": 41,
   "id": "0aa09fc9",
   "metadata": {},
   "outputs": [
    {
     "data": {
      "text/plain": [
       "<AxesSubplot:xlabel='hour', ylabel='demand'>"
      ]
     },
     "execution_count": 41,
     "metadata": {},
     "output_type": "execute_result"
    },
    {
     "data": {
      "image/png": "[encoded data removed]",
      "text/plain": [
       "<Figure size 432x288 with 1 Axes>"
      ]
     },
     "metadata": {
      "needs_background": "light"
     },
     "output_type": "display_data"
    }
   ],
   "source": [
    "sns.lineplot(train_set['hour'],train_set['demand'],estimator=sum)"
   ]
  },
  {
   "cell_type": "code",
   "execution_count": 42,
   "id": "d2d465a7",
   "metadata": {},
   "outputs": [
    {
     "data": {
      "text/html": [
       "<div>\n",
       "<style scoped>\n",
       "    .dataframe tbody tr th:only-of-type {\n",
       "        vertical-align: middle;\n",
       "    }\n",
       "\n",
       "    .dataframe tbody tr th {\n",
       "        vertical-align: top;\n",
       "    }\n",
       "\n",
       "    .dataframe thead th {\n",
       "        text-align: right;\n",
       "    }\n",
       "</style>\n",
       "<table border=\"1\" class=\"dataframe\">\n",
       "  <thead>\n",
       "    <tr style=\"text-align: right;\">\n",
       "      <th></th>\n",
       "      <th>demand</th>\n",
       "    </tr>\n",
       "    <tr>\n",
       "      <th>hour</th>\n",
       "      <th></th>\n",
       "    </tr>\n",
       "  </thead>\n",
       "  <tbody>\n",
       "    <tr>\n",
       "      <th>4</th>\n",
       "      <td>9331</td>\n",
       "    </tr>\n",
       "    <tr>\n",
       "      <th>5</th>\n",
       "      <td>11867</td>\n",
       "    </tr>\n",
       "    <tr>\n",
       "      <th>3</th>\n",
       "      <td>12179</td>\n",
       "    </tr>\n",
       "    <tr>\n",
       "      <th>2</th>\n",
       "      <td>23120</td>\n",
       "    </tr>\n",
       "    <tr>\n",
       "      <th>1</th>\n",
       "      <td>25103</td>\n",
       "    </tr>\n",
       "    <tr>\n",
       "      <th>6</th>\n",
       "      <td>26902</td>\n",
       "    </tr>\n",
       "    <tr>\n",
       "      <th>0</th>\n",
       "      <td>33274</td>\n",
       "    </tr>\n",
       "    <tr>\n",
       "      <th>23</th>\n",
       "      <td>36615</td>\n",
       "    </tr>\n",
       "    <tr>\n",
       "      <th>7</th>\n",
       "      <td>37047</td>\n",
       "    </tr>\n",
       "    <tr>\n",
       "      <th>22</th>\n",
       "      <td>43398</td>\n",
       "    </tr>\n",
       "    <tr>\n",
       "      <th>8</th>\n",
       "      <td>43607</td>\n",
       "    </tr>\n",
       "    <tr>\n",
       "      <th>21</th>\n",
       "      <td>46848</td>\n",
       "    </tr>\n",
       "    <tr>\n",
       "      <th>9</th>\n",
       "      <td>47477</td>\n",
       "    </tr>\n",
       "    <tr>\n",
       "      <th>20</th>\n",
       "      <td>48019</td>\n",
       "    </tr>\n",
       "    <tr>\n",
       "      <th>10</th>\n",
       "      <td>50519</td>\n",
       "    </tr>\n",
       "    <tr>\n",
       "      <th>11</th>\n",
       "      <td>54623</td>\n",
       "    </tr>\n",
       "    <tr>\n",
       "      <th>19</th>\n",
       "      <td>54977</td>\n",
       "    </tr>\n",
       "    <tr>\n",
       "      <th>18</th>\n",
       "      <td>60637</td>\n",
       "    </tr>\n",
       "    <tr>\n",
       "      <th>12</th>\n",
       "      <td>62098</td>\n",
       "    </tr>\n",
       "    <tr>\n",
       "      <th>14</th>\n",
       "      <td>62584</td>\n",
       "    </tr>\n",
       "    <tr>\n",
       "      <th>13</th>\n",
       "      <td>63309</td>\n",
       "    </tr>\n",
       "    <tr>\n",
       "      <th>16</th>\n",
       "      <td>63504</td>\n",
       "    </tr>\n",
       "    <tr>\n",
       "      <th>17</th>\n",
       "      <td>63573</td>\n",
       "    </tr>\n",
       "    <tr>\n",
       "      <th>15</th>\n",
       "      <td>64463</td>\n",
       "    </tr>\n",
       "  </tbody>\n",
       "</table>\n",
       "</div>"
      ],
      "text/plain": [
       "      demand\n",
       "hour        \n",
       "4       9331\n",
       "5      11867\n",
       "3      12179\n",
       "2      23120\n",
       "1      25103\n",
       "6      26902\n",
       "0      33274\n",
       "23     36615\n",
       "7      37047\n",
       "22     43398\n",
       "8      43607\n",
       "21     46848\n",
       "9      47477\n",
       "20     48019\n",
       "10     50519\n",
       "11     54623\n",
       "19     54977\n",
       "18     60637\n",
       "12     62098\n",
       "14     62584\n",
       "13     63309\n",
       "16     63504\n",
       "17     63573\n",
       "15     64463"
      ]
     },
     "execution_count": 42,
     "metadata": {},
     "output_type": "execute_result"
    }
   ],
   "source": [
    " pd.DataFrame(train_set.groupby('hour')['demand'].sum()).sort_values(by='demand')"
   ]
  },
  {
   "cell_type": "code",
   "execution_count": 43,
   "id": "84bd6d27",
   "metadata": {},
   "outputs": [],
   "source": [
    "def hour_buckets(hour):\n",
    "    #midnight and early morning\n",
    "    if(hour in range(1,6)):\n",
    "        hour_bucket=1\n",
    "    # morning  \n",
    "    elif(hour in range(6,10)):\n",
    "        hour_bucket=2\n",
    "    #peak hours   \n",
    "    elif(hour in range(11,20)):\n",
    "        hour_bucket=3\n",
    "    #office return or end of day hours\n",
    "    else:\n",
    "        hour_bucket=4\n",
    "    #print(hour_bucket)\n",
    "    return hour_bucket"
   ]
  },
  {
   "cell_type": "code",
   "execution_count": 44,
   "id": "cf8c86a8",
   "metadata": {},
   "outputs": [],
   "source": [
    "#dummy=train_set.copy()\n",
    "#train_set['hour_bucket']=np.nan\n",
    "train_set['hour_bucket']=train_set['hour'].apply(hour_buckets)\n",
    "valid1['hour_bucket']=valid1['hour'].apply(hour_buckets)\n",
    "valid2['hour_bucket']=valid2['hour'].apply(hour_buckets)\n",
    "test['hour_bucket']=test['hour'].apply(hour_buckets)"
   ]
  },
  {
   "cell_type": "code",
   "execution_count": 45,
   "id": "c0092205",
   "metadata": {},
   "outputs": [
    {
     "data": {
      "text/html": [
       "<div>\n",
       "<style scoped>\n",
       "    .dataframe tbody tr th:only-of-type {\n",
       "        vertical-align: middle;\n",
       "    }\n",
       "\n",
       "    .dataframe tbody tr th {\n",
       "        vertical-align: top;\n",
       "    }\n",
       "\n",
       "    .dataframe thead th {\n",
       "        text-align: right;\n",
       "    }\n",
       "</style>\n",
       "<table border=\"1\" class=\"dataframe\">\n",
       "  <thead>\n",
       "    <tr style=\"text-align: right;\">\n",
       "      <th></th>\n",
       "      <th>date</th>\n",
       "      <th>hour</th>\n",
       "      <th>demand</th>\n",
       "      <th>new_date</th>\n",
       "      <th>day_of_week</th>\n",
       "      <th>week_of_year</th>\n",
       "      <th>day_from_date</th>\n",
       "      <th>month_of_year</th>\n",
       "      <th>quarter</th>\n",
       "      <th>day_of_year</th>\n",
       "      <th>year</th>\n",
       "      <th>hour_bucket</th>\n",
       "    </tr>\n",
       "  </thead>\n",
       "  <tbody>\n",
       "    <tr>\n",
       "      <th>0</th>\n",
       "      <td>2018-08-18</td>\n",
       "      <td>9</td>\n",
       "      <td>91</td>\n",
       "      <td>2018-08-18 09:00:00</td>\n",
       "      <td>5</td>\n",
       "      <td>33</td>\n",
       "      <td>18</td>\n",
       "      <td>8</td>\n",
       "      <td>3</td>\n",
       "      <td>230</td>\n",
       "      <td>2018</td>\n",
       "      <td>2</td>\n",
       "    </tr>\n",
       "    <tr>\n",
       "      <th>1</th>\n",
       "      <td>2018-08-18</td>\n",
       "      <td>10</td>\n",
       "      <td>21</td>\n",
       "      <td>2018-08-18 10:00:00</td>\n",
       "      <td>5</td>\n",
       "      <td>33</td>\n",
       "      <td>18</td>\n",
       "      <td>8</td>\n",
       "      <td>3</td>\n",
       "      <td>230</td>\n",
       "      <td>2018</td>\n",
       "      <td>4</td>\n",
       "    </tr>\n",
       "    <tr>\n",
       "      <th>2</th>\n",
       "      <td>2018-08-18</td>\n",
       "      <td>13</td>\n",
       "      <td>23</td>\n",
       "      <td>2018-08-18 13:00:00</td>\n",
       "      <td>5</td>\n",
       "      <td>33</td>\n",
       "      <td>18</td>\n",
       "      <td>8</td>\n",
       "      <td>3</td>\n",
       "      <td>230</td>\n",
       "      <td>2018</td>\n",
       "      <td>3</td>\n",
       "    </tr>\n",
       "  </tbody>\n",
       "</table>\n",
       "</div>"
      ],
      "text/plain": [
       "        date  hour  demand            new_date  day_of_week  week_of_year  day_from_date  month_of_year  quarter  day_of_year  year  hour_bucket\n",
       "0 2018-08-18     9      91 2018-08-18 09:00:00            5            33             18              8        3          230  2018            2\n",
       "1 2018-08-18    10      21 2018-08-18 10:00:00            5            33             18              8        3          230  2018            4\n",
       "2 2018-08-18    13      23 2018-08-18 13:00:00            5            33             18              8        3          230  2018            3"
      ]
     },
     "execution_count": 45,
     "metadata": {},
     "output_type": "execute_result"
    }
   ],
   "source": [
    "train_set.head(3)"
   ]
  },
  {
   "cell_type": "markdown",
   "id": "47aa84a4",
   "metadata": {},
   "source": [
    "### demand with respect to hour_bucket"
   ]
  },
  {
   "cell_type": "code",
   "execution_count": 46,
   "id": "8b851eb8",
   "metadata": {},
   "outputs": [
    {
     "data": {
      "text/plain": [
       "<AxesSubplot:xlabel='hour_bucket', ylabel='demand'>"
      ]
     },
     "execution_count": 46,
     "metadata": {},
     "output_type": "execute_result"
    },
    {
     "data": {
      "image/png": "[encoded data removed]",
      "text/plain": [
       "<Figure size 432x288 with 1 Axes>"
      ]
     },
     "metadata": {
      "needs_background": "light"
     },
     "output_type": "display_data"
    }
   ],
   "source": [
    "sns.lineplot(train_set['hour_bucket'],train_set['demand'],estimator=sum)"
   ]
  },
  {
   "cell_type": "markdown",
   "id": "8d94d6ee",
   "metadata": {},
   "source": [
    "------------- peak hours: 3 bucket(11-20 hrs)-----------------------"
   ]
  },
  {
   "cell_type": "markdown",
   "id": "4dac9570",
   "metadata": {},
   "source": [
    "### analysis on day_of_year"
   ]
  },
  {
   "cell_type": "code",
   "execution_count": 47,
   "id": "19126eb4",
   "metadata": {},
   "outputs": [
    {
     "data": {
      "image/png": "[encoded data removed]",
      "text/plain": [
       "<Figure size 432x288 with 1 Axes>"
      ]
     },
     "metadata": {
      "needs_background": "light"
     },
     "output_type": "display_data"
    }
   ],
   "source": [
    "sns.lineplot(train_set['day_of_year'],train_set['demand'],estimator=sum)\n",
    "\n",
    "sns.set(rc={'figure.figsize':(29.7,14.27)})"
   ]
  },
  {
   "cell_type": "code",
   "execution_count": null,
   "id": "441368f7",
   "metadata": {},
   "outputs": [],
   "source": []
  },
  {
   "cell_type": "code",
   "execution_count": null,
   "id": "7cfe20c1",
   "metadata": {},
   "outputs": [],
   "source": []
  },
  {
   "cell_type": "markdown",
   "id": "d01e6d64",
   "metadata": {},
   "source": [
    "# feature engineering"
   ]
  },
  {
   "cell_type": "code",
   "execution_count": 48,
   "id": "1e9cd774",
   "metadata": {},
   "outputs": [],
   "source": [
    "#feature by grouping 2 features and creating a new one\n",
    "def groupedby_features(df,feature1,feature2,feature3,new_feature):\n",
    "    \n",
    "    mapper=df.groupby([feature1,feature2])[feature3].mean().to_dict()\n",
    "    df[new_feature] = list(zip(df[feature1], df[feature2]))\n",
    "    df[new_feature]=df[new_feature].map(mapper)       \n",
    "    \n",
    "    return df[new_feature]"
   ]
  },
  {
   "cell_type": "code",
   "execution_count": 49,
   "id": "af6646f0",
   "metadata": {},
   "outputs": [],
   "source": [
    "#hour based\n",
    "#month and hour combination\n",
    "train_set['hour_month']=groupedby_features(train_set.copy(),'hour','month_of_year','demand','hour_month')\n",
    "#quarter hour combination\n",
    "train_set['hour_quarter']=groupedby_features(train_set.copy(),'hour','quarter','demand','hour_quarter')\n",
    "\n",
    "#day of week \n",
    "#week hour\n",
    "train_set['week_hour_demand']=groupedby_features(train_set.copy(),'day_of_week','hour','demand','week_hour_demand')\n",
    "#month day of week\n",
    "train_set['month_week_demand']=groupedby_features(train_set.copy(),'month_of_year','day_of_week','demand','month_week_demand')\n",
    "\n",
    "#day from date,month of year\n",
    "train_set['month_day_date']=groupedby_features(train_set.copy(),'month_of_year','day_from_date','demand','month_day_date')\n",
    "\n",
    "#week_day_date_demand\n",
    "train_set['week_day_date_demand']=groupedby_features(train_set.copy(),'week_of_year','day_from_date','demand','week_day_date_demand')\n",
    "\n",
    "#day_of_week, quarter\n",
    "train_set['day_week_quarter']=groupedby_features(train_set.copy(),'day_of_week','quarter','demand','day_week_quarter')\n",
    "\n"
   ]
  },
  {
   "cell_type": "code",
   "execution_count": 50,
   "id": "f8aa6ce3",
   "metadata": {},
   "outputs": [
    {
     "data": {
      "text/html": [
       "<div>\n",
       "<style scoped>\n",
       "    .dataframe tbody tr th:only-of-type {\n",
       "        vertical-align: middle;\n",
       "    }\n",
       "\n",
       "    .dataframe tbody tr th {\n",
       "        vertical-align: top;\n",
       "    }\n",
       "\n",
       "    .dataframe thead th {\n",
       "        text-align: right;\n",
       "    }\n",
       "</style>\n",
       "<table border=\"1\" class=\"dataframe\">\n",
       "  <thead>\n",
       "    <tr style=\"text-align: right;\">\n",
       "      <th></th>\n",
       "      <th>date</th>\n",
       "      <th>hour</th>\n",
       "      <th>demand</th>\n",
       "      <th>new_date</th>\n",
       "      <th>day_of_week</th>\n",
       "      <th>week_of_year</th>\n",
       "      <th>day_from_date</th>\n",
       "      <th>month_of_year</th>\n",
       "      <th>quarter</th>\n",
       "      <th>day_of_year</th>\n",
       "      <th>year</th>\n",
       "      <th>hour_bucket</th>\n",
       "      <th>hour_month</th>\n",
       "      <th>hour_quarter</th>\n",
       "      <th>week_hour_demand</th>\n",
       "      <th>month_week_demand</th>\n",
       "      <th>month_day_date</th>\n",
       "      <th>week_day_date_demand</th>\n",
       "      <th>day_week_quarter</th>\n",
       "    </tr>\n",
       "  </thead>\n",
       "  <tbody>\n",
       "    <tr>\n",
       "      <th>0</th>\n",
       "      <td>2018-08-18</td>\n",
       "      <td>9</td>\n",
       "      <td>91</td>\n",
       "      <td>2018-08-18 09:00:00</td>\n",
       "      <td>5</td>\n",
       "      <td>33</td>\n",
       "      <td>18</td>\n",
       "      <td>8</td>\n",
       "      <td>3</td>\n",
       "      <td>230</td>\n",
       "      <td>2018</td>\n",
       "      <td>2</td>\n",
       "      <td>63.219512</td>\n",
       "      <td>58.619355</td>\n",
       "      <td>71.979798</td>\n",
       "      <td>60.775</td>\n",
       "      <td>61.636364</td>\n",
       "      <td>61.636364</td>\n",
       "      <td>68.295943</td>\n",
       "    </tr>\n",
       "    <tr>\n",
       "      <th>1</th>\n",
       "      <td>2018-08-18</td>\n",
       "      <td>10</td>\n",
       "      <td>21</td>\n",
       "      <td>2018-08-18 10:00:00</td>\n",
       "      <td>5</td>\n",
       "      <td>33</td>\n",
       "      <td>18</td>\n",
       "      <td>8</td>\n",
       "      <td>3</td>\n",
       "      <td>230</td>\n",
       "      <td>2018</td>\n",
       "      <td>4</td>\n",
       "      <td>56.761905</td>\n",
       "      <td>61.512500</td>\n",
       "      <td>84.564356</td>\n",
       "      <td>60.775</td>\n",
       "      <td>61.636364</td>\n",
       "      <td>61.636364</td>\n",
       "      <td>68.295943</td>\n",
       "    </tr>\n",
       "    <tr>\n",
       "      <th>2</th>\n",
       "      <td>2018-08-18</td>\n",
       "      <td>13</td>\n",
       "      <td>23</td>\n",
       "      <td>2018-08-18 13:00:00</td>\n",
       "      <td>5</td>\n",
       "      <td>33</td>\n",
       "      <td>18</td>\n",
       "      <td>8</td>\n",
       "      <td>3</td>\n",
       "      <td>230</td>\n",
       "      <td>2018</td>\n",
       "      <td>3</td>\n",
       "      <td>68.477273</td>\n",
       "      <td>68.804878</td>\n",
       "      <td>127.356436</td>\n",
       "      <td>60.775</td>\n",
       "      <td>61.636364</td>\n",
       "      <td>61.636364</td>\n",
       "      <td>68.295943</td>\n",
       "    </tr>\n",
       "    <tr>\n",
       "      <th>3</th>\n",
       "      <td>2018-08-18</td>\n",
       "      <td>14</td>\n",
       "      <td>104</td>\n",
       "      <td>2018-08-18 14:00:00</td>\n",
       "      <td>5</td>\n",
       "      <td>33</td>\n",
       "      <td>18</td>\n",
       "      <td>8</td>\n",
       "      <td>3</td>\n",
       "      <td>230</td>\n",
       "      <td>2018</td>\n",
       "      <td>3</td>\n",
       "      <td>71.818182</td>\n",
       "      <td>75.118750</td>\n",
       "      <td>129.584158</td>\n",
       "      <td>60.775</td>\n",
       "      <td>61.636364</td>\n",
       "      <td>61.636364</td>\n",
       "      <td>68.295943</td>\n",
       "    </tr>\n",
       "    <tr>\n",
       "      <th>4</th>\n",
       "      <td>2018-08-18</td>\n",
       "      <td>15</td>\n",
       "      <td>81</td>\n",
       "      <td>2018-08-18 15:00:00</td>\n",
       "      <td>5</td>\n",
       "      <td>33</td>\n",
       "      <td>18</td>\n",
       "      <td>8</td>\n",
       "      <td>3</td>\n",
       "      <td>230</td>\n",
       "      <td>2018</td>\n",
       "      <td>3</td>\n",
       "      <td>79.093023</td>\n",
       "      <td>78.950920</td>\n",
       "      <td>122.623762</td>\n",
       "      <td>60.775</td>\n",
       "      <td>61.636364</td>\n",
       "      <td>61.636364</td>\n",
       "      <td>68.295943</td>\n",
       "    </tr>\n",
       "  </tbody>\n",
       "</table>\n",
       "</div>"
      ],
      "text/plain": [
       "        date  hour  demand            new_date  day_of_week  week_of_year  day_from_date  month_of_year  quarter  day_of_year  year  hour_bucket  hour_month  hour_quarter  week_hour_demand  month_week_demand  month_day_date  week_day_date_demand  day_week_quarter\n",
       "0 2018-08-18     9      91 2018-08-18 09:00:00            5            33             18              8        3          230  2018            2   63.219512     58.619355         71.979798             60.775       61.636364             61.636364         68.295943\n",
       "1 2018-08-18    10      21 2018-08-18 10:00:00            5            33             18              8        3          230  2018            4   56.761905     61.512500         84.564356             60.775       61.636364             61.636364         68.295943\n",
       "2 2018-08-18    13      23 2018-08-18 13:00:00            5            33             18              8        3          230  2018            3   68.477273     68.804878        127.356436             60.775       61.636364             61.636364         68.295943\n",
       "3 2018-08-18    14     104 2018-08-18 14:00:00            5            33             18              8        3          230  2018            3   71.818182     75.118750        129.584158             60.775       61.636364             61.636364         68.295943\n",
       "4 2018-08-18    15      81 2018-08-18 15:00:00            5            33             18              8        3          230  2018            3   79.093023     78.950920        122.623762             60.775       61.636364             61.636364         68.295943"
      ]
     },
     "execution_count": 50,
     "metadata": {},
     "output_type": "execute_result"
    }
   ],
   "source": [
    "train_set.head()"
   ]
  },
  {
   "cell_type": "markdown",
   "id": "06708037",
   "metadata": {},
   "source": [
    "## lag features "
   ]
  },
  {
   "cell_type": "code",
   "execution_count": 51,
   "id": "c947dd2c",
   "metadata": {},
   "outputs": [],
   "source": [
    "# sns.lineplot(train_set['hour'],train_set['demand'],estimator=sum)"
   ]
  },
  {
   "cell_type": "code",
   "execution_count": 52,
   "id": "9ab8c7b4",
   "metadata": {},
   "outputs": [],
   "source": [
    "#  pd.DataFrame(train_set.groupby('hour')['demand'].sum()).sort_values(by='demand')"
   ]
  },
  {
   "cell_type": "markdown",
   "id": "84f0efa7",
   "metadata": {},
   "source": [
    "##### considering a shift of demand in each four/ five hours i have taken 4 lagging features and also rolling window =4"
   ]
  },
  {
   "cell_type": "code",
   "execution_count": 53,
   "id": "2f00a0f6",
   "metadata": {},
   "outputs": [],
   "source": [
    "train_set['lag_1'] = train_set['demand'].shift(1)\n",
    "train_set['lag_2'] = train_set['demand'].shift(2)\n",
    "train_set['lag_3'] = train_set['demand'].shift(3)\n",
    "train_set['lag_4'] = train_set['demand'].shift(4)\n"
   ]
  },
  {
   "cell_type": "code",
   "execution_count": 54,
   "id": "3a395364",
   "metadata": {},
   "outputs": [
    {
     "data": {
      "text/html": [
       "<div>\n",
       "<style scoped>\n",
       "    .dataframe tbody tr th:only-of-type {\n",
       "        vertical-align: middle;\n",
       "    }\n",
       "\n",
       "    .dataframe tbody tr th {\n",
       "        vertical-align: top;\n",
       "    }\n",
       "\n",
       "    .dataframe thead th {\n",
       "        text-align: right;\n",
       "    }\n",
       "</style>\n",
       "<table border=\"1\" class=\"dataframe\">\n",
       "  <thead>\n",
       "    <tr style=\"text-align: right;\">\n",
       "      <th></th>\n",
       "      <th>date</th>\n",
       "      <th>hour</th>\n",
       "      <th>lag_1</th>\n",
       "      <th>lag_2</th>\n",
       "      <th>lag_3</th>\n",
       "      <th>lag_4</th>\n",
       "      <th>demand</th>\n",
       "    </tr>\n",
       "  </thead>\n",
       "  <tbody>\n",
       "    <tr>\n",
       "      <th>0</th>\n",
       "      <td>2018-08-18</td>\n",
       "      <td>9</td>\n",
       "      <td>NaN</td>\n",
       "      <td>NaN</td>\n",
       "      <td>NaN</td>\n",
       "      <td>NaN</td>\n",
       "      <td>91</td>\n",
       "    </tr>\n",
       "    <tr>\n",
       "      <th>1</th>\n",
       "      <td>2018-08-18</td>\n",
       "      <td>10</td>\n",
       "      <td>91.0</td>\n",
       "      <td>NaN</td>\n",
       "      <td>NaN</td>\n",
       "      <td>NaN</td>\n",
       "      <td>21</td>\n",
       "    </tr>\n",
       "    <tr>\n",
       "      <th>2</th>\n",
       "      <td>2018-08-18</td>\n",
       "      <td>13</td>\n",
       "      <td>21.0</td>\n",
       "      <td>91.0</td>\n",
       "      <td>NaN</td>\n",
       "      <td>NaN</td>\n",
       "      <td>23</td>\n",
       "    </tr>\n",
       "    <tr>\n",
       "      <th>3</th>\n",
       "      <td>2018-08-18</td>\n",
       "      <td>14</td>\n",
       "      <td>23.0</td>\n",
       "      <td>21.0</td>\n",
       "      <td>91.0</td>\n",
       "      <td>NaN</td>\n",
       "      <td>104</td>\n",
       "    </tr>\n",
       "    <tr>\n",
       "      <th>4</th>\n",
       "      <td>2018-08-18</td>\n",
       "      <td>15</td>\n",
       "      <td>104.0</td>\n",
       "      <td>23.0</td>\n",
       "      <td>21.0</td>\n",
       "      <td>91.0</td>\n",
       "      <td>81</td>\n",
       "    </tr>\n",
       "    <tr>\n",
       "      <th>5</th>\n",
       "      <td>2018-08-18</td>\n",
       "      <td>16</td>\n",
       "      <td>81.0</td>\n",
       "      <td>104.0</td>\n",
       "      <td>23.0</td>\n",
       "      <td>21.0</td>\n",
       "      <td>37</td>\n",
       "    </tr>\n",
       "    <tr>\n",
       "      <th>6</th>\n",
       "      <td>2018-08-18</td>\n",
       "      <td>17</td>\n",
       "      <td>37.0</td>\n",
       "      <td>81.0</td>\n",
       "      <td>104.0</td>\n",
       "      <td>23.0</td>\n",
       "      <td>27</td>\n",
       "    </tr>\n",
       "    <tr>\n",
       "      <th>7</th>\n",
       "      <td>2018-08-18</td>\n",
       "      <td>18</td>\n",
       "      <td>27.0</td>\n",
       "      <td>37.0</td>\n",
       "      <td>81.0</td>\n",
       "      <td>104.0</td>\n",
       "      <td>66</td>\n",
       "    </tr>\n",
       "    <tr>\n",
       "      <th>8</th>\n",
       "      <td>2018-08-18</td>\n",
       "      <td>19</td>\n",
       "      <td>66.0</td>\n",
       "      <td>27.0</td>\n",
       "      <td>37.0</td>\n",
       "      <td>81.0</td>\n",
       "      <td>80</td>\n",
       "    </tr>\n",
       "    <tr>\n",
       "      <th>9</th>\n",
       "      <td>2018-08-18</td>\n",
       "      <td>20</td>\n",
       "      <td>80.0</td>\n",
       "      <td>66.0</td>\n",
       "      <td>27.0</td>\n",
       "      <td>37.0</td>\n",
       "      <td>52</td>\n",
       "    </tr>\n",
       "  </tbody>\n",
       "</table>\n",
       "</div>"
      ],
      "text/plain": [
       "        date  hour  lag_1  lag_2  lag_3  lag_4  demand\n",
       "0 2018-08-18     9    NaN    NaN    NaN    NaN      91\n",
       "1 2018-08-18    10   91.0    NaN    NaN    NaN      21\n",
       "2 2018-08-18    13   21.0   91.0    NaN    NaN      23\n",
       "3 2018-08-18    14   23.0   21.0   91.0    NaN     104\n",
       "4 2018-08-18    15  104.0   23.0   21.0   91.0      81\n",
       "5 2018-08-18    16   81.0  104.0   23.0   21.0      37\n",
       "6 2018-08-18    17   37.0   81.0  104.0   23.0      27\n",
       "7 2018-08-18    18   27.0   37.0   81.0  104.0      66\n",
       "8 2018-08-18    19   66.0   27.0   37.0   81.0      80\n",
       "9 2018-08-18    20   80.0   66.0   27.0   37.0      52"
      ]
     },
     "execution_count": 54,
     "metadata": {},
     "output_type": "execute_result"
    }
   ],
   "source": [
    "data = train_set[['date', 'hour','lag_1', 'lag_2', 'lag_3', 'lag_4', 'demand']].copy()\n",
    "data.head(10)"
   ]
  },
  {
   "cell_type": "markdown",
   "id": "602fa9fa",
   "metadata": {},
   "source": [
    "## rolling mean"
   ]
  },
  {
   "cell_type": "code",
   "execution_count": 55,
   "id": "1814ceb4",
   "metadata": {},
   "outputs": [
    {
     "data": {
      "text/html": [
       "<div>\n",
       "<style scoped>\n",
       "    .dataframe tbody tr th:only-of-type {\n",
       "        vertical-align: middle;\n",
       "    }\n",
       "\n",
       "    .dataframe tbody tr th {\n",
       "        vertical-align: top;\n",
       "    }\n",
       "\n",
       "    .dataframe thead th {\n",
       "        text-align: right;\n",
       "    }\n",
       "</style>\n",
       "<table border=\"1\" class=\"dataframe\">\n",
       "  <thead>\n",
       "    <tr style=\"text-align: right;\">\n",
       "      <th></th>\n",
       "      <th>date</th>\n",
       "      <th>hour</th>\n",
       "      <th>rolling_mean</th>\n",
       "      <th>demand</th>\n",
       "    </tr>\n",
       "  </thead>\n",
       "  <tbody>\n",
       "    <tr>\n",
       "      <th>0</th>\n",
       "      <td>2018-08-18</td>\n",
       "      <td>9</td>\n",
       "      <td>NaN</td>\n",
       "      <td>91</td>\n",
       "    </tr>\n",
       "    <tr>\n",
       "      <th>1</th>\n",
       "      <td>2018-08-18</td>\n",
       "      <td>10</td>\n",
       "      <td>NaN</td>\n",
       "      <td>21</td>\n",
       "    </tr>\n",
       "    <tr>\n",
       "      <th>2</th>\n",
       "      <td>2018-08-18</td>\n",
       "      <td>13</td>\n",
       "      <td>NaN</td>\n",
       "      <td>23</td>\n",
       "    </tr>\n",
       "    <tr>\n",
       "      <th>3</th>\n",
       "      <td>2018-08-18</td>\n",
       "      <td>14</td>\n",
       "      <td>59.75</td>\n",
       "      <td>104</td>\n",
       "    </tr>\n",
       "    <tr>\n",
       "      <th>4</th>\n",
       "      <td>2018-08-18</td>\n",
       "      <td>15</td>\n",
       "      <td>57.25</td>\n",
       "      <td>81</td>\n",
       "    </tr>\n",
       "    <tr>\n",
       "      <th>5</th>\n",
       "      <td>2018-08-18</td>\n",
       "      <td>16</td>\n",
       "      <td>61.25</td>\n",
       "      <td>37</td>\n",
       "    </tr>\n",
       "    <tr>\n",
       "      <th>6</th>\n",
       "      <td>2018-08-18</td>\n",
       "      <td>17</td>\n",
       "      <td>62.25</td>\n",
       "      <td>27</td>\n",
       "    </tr>\n",
       "    <tr>\n",
       "      <th>7</th>\n",
       "      <td>2018-08-18</td>\n",
       "      <td>18</td>\n",
       "      <td>52.75</td>\n",
       "      <td>66</td>\n",
       "    </tr>\n",
       "    <tr>\n",
       "      <th>8</th>\n",
       "      <td>2018-08-18</td>\n",
       "      <td>19</td>\n",
       "      <td>52.50</td>\n",
       "      <td>80</td>\n",
       "    </tr>\n",
       "    <tr>\n",
       "      <th>9</th>\n",
       "      <td>2018-08-18</td>\n",
       "      <td>20</td>\n",
       "      <td>56.25</td>\n",
       "      <td>52</td>\n",
       "    </tr>\n",
       "  </tbody>\n",
       "</table>\n",
       "</div>"
      ],
      "text/plain": [
       "        date  hour  rolling_mean  demand\n",
       "0 2018-08-18     9           NaN      91\n",
       "1 2018-08-18    10           NaN      21\n",
       "2 2018-08-18    13           NaN      23\n",
       "3 2018-08-18    14         59.75     104\n",
       "4 2018-08-18    15         57.25      81\n",
       "5 2018-08-18    16         61.25      37\n",
       "6 2018-08-18    17         62.25      27\n",
       "7 2018-08-18    18         52.75      66\n",
       "8 2018-08-18    19         52.50      80\n",
       "9 2018-08-18    20         56.25      52"
      ]
     },
     "execution_count": 55,
     "metadata": {},
     "output_type": "execute_result"
    }
   ],
   "source": [
    "train_set['rolling_mean'] = train_set['demand'].rolling(window=4).mean()\n",
    "data = train_set[['date','hour', 'rolling_mean', 'demand']].copy()\n",
    "data.head(10)"
   ]
  },
  {
   "cell_type": "markdown",
   "id": "3c522c11",
   "metadata": {},
   "source": [
    "###### used bfill to fill these NaN values."
   ]
  },
  {
   "cell_type": "code",
   "execution_count": 56,
   "id": "184df508",
   "metadata": {},
   "outputs": [],
   "source": [
    "train_set.fillna(method ='bfill',inplace=True)"
   ]
  },
  {
   "cell_type": "code",
   "execution_count": 57,
   "id": "5b6ebf52",
   "metadata": {},
   "outputs": [
    {
     "data": {
      "text/html": [
       "<div>\n",
       "<style scoped>\n",
       "    .dataframe tbody tr th:only-of-type {\n",
       "        vertical-align: middle;\n",
       "    }\n",
       "\n",
       "    .dataframe tbody tr th {\n",
       "        vertical-align: top;\n",
       "    }\n",
       "\n",
       "    .dataframe thead th {\n",
       "        text-align: right;\n",
       "    }\n",
       "</style>\n",
       "<table border=\"1\" class=\"dataframe\">\n",
       "  <thead>\n",
       "    <tr style=\"text-align: right;\">\n",
       "      <th></th>\n",
       "      <th>date</th>\n",
       "      <th>hour</th>\n",
       "      <th>demand</th>\n",
       "      <th>new_date</th>\n",
       "      <th>day_of_week</th>\n",
       "      <th>week_of_year</th>\n",
       "      <th>day_from_date</th>\n",
       "      <th>month_of_year</th>\n",
       "      <th>quarter</th>\n",
       "      <th>day_of_year</th>\n",
       "      <th>year</th>\n",
       "      <th>hour_bucket</th>\n",
       "      <th>hour_month</th>\n",
       "      <th>hour_quarter</th>\n",
       "      <th>week_hour_demand</th>\n",
       "      <th>month_week_demand</th>\n",
       "      <th>month_day_date</th>\n",
       "      <th>week_day_date_demand</th>\n",
       "      <th>day_week_quarter</th>\n",
       "      <th>lag_1</th>\n",
       "      <th>lag_2</th>\n",
       "      <th>lag_3</th>\n",
       "      <th>lag_4</th>\n",
       "      <th>rolling_mean</th>\n",
       "    </tr>\n",
       "  </thead>\n",
       "  <tbody>\n",
       "    <tr>\n",
       "      <th>0</th>\n",
       "      <td>2018-08-18</td>\n",
       "      <td>9</td>\n",
       "      <td>91</td>\n",
       "      <td>2018-08-18 09:00:00</td>\n",
       "      <td>5</td>\n",
       "      <td>33</td>\n",
       "      <td>18</td>\n",
       "      <td>8</td>\n",
       "      <td>3</td>\n",
       "      <td>230</td>\n",
       "      <td>2018</td>\n",
       "      <td>2</td>\n",
       "      <td>63.219512</td>\n",
       "      <td>58.619355</td>\n",
       "      <td>71.979798</td>\n",
       "      <td>60.775</td>\n",
       "      <td>61.636364</td>\n",
       "      <td>61.636364</td>\n",
       "      <td>68.295943</td>\n",
       "      <td>91.0</td>\n",
       "      <td>91.0</td>\n",
       "      <td>91.0</td>\n",
       "      <td>91.0</td>\n",
       "      <td>59.75</td>\n",
       "    </tr>\n",
       "    <tr>\n",
       "      <th>1</th>\n",
       "      <td>2018-08-18</td>\n",
       "      <td>10</td>\n",
       "      <td>21</td>\n",
       "      <td>2018-08-18 10:00:00</td>\n",
       "      <td>5</td>\n",
       "      <td>33</td>\n",
       "      <td>18</td>\n",
       "      <td>8</td>\n",
       "      <td>3</td>\n",
       "      <td>230</td>\n",
       "      <td>2018</td>\n",
       "      <td>4</td>\n",
       "      <td>56.761905</td>\n",
       "      <td>61.512500</td>\n",
       "      <td>84.564356</td>\n",
       "      <td>60.775</td>\n",
       "      <td>61.636364</td>\n",
       "      <td>61.636364</td>\n",
       "      <td>68.295943</td>\n",
       "      <td>91.0</td>\n",
       "      <td>91.0</td>\n",
       "      <td>91.0</td>\n",
       "      <td>91.0</td>\n",
       "      <td>59.75</td>\n",
       "    </tr>\n",
       "    <tr>\n",
       "      <th>2</th>\n",
       "      <td>2018-08-18</td>\n",
       "      <td>13</td>\n",
       "      <td>23</td>\n",
       "      <td>2018-08-18 13:00:00</td>\n",
       "      <td>5</td>\n",
       "      <td>33</td>\n",
       "      <td>18</td>\n",
       "      <td>8</td>\n",
       "      <td>3</td>\n",
       "      <td>230</td>\n",
       "      <td>2018</td>\n",
       "      <td>3</td>\n",
       "      <td>68.477273</td>\n",
       "      <td>68.804878</td>\n",
       "      <td>127.356436</td>\n",
       "      <td>60.775</td>\n",
       "      <td>61.636364</td>\n",
       "      <td>61.636364</td>\n",
       "      <td>68.295943</td>\n",
       "      <td>21.0</td>\n",
       "      <td>91.0</td>\n",
       "      <td>91.0</td>\n",
       "      <td>91.0</td>\n",
       "      <td>59.75</td>\n",
       "    </tr>\n",
       "    <tr>\n",
       "      <th>3</th>\n",
       "      <td>2018-08-18</td>\n",
       "      <td>14</td>\n",
       "      <td>104</td>\n",
       "      <td>2018-08-18 14:00:00</td>\n",
       "      <td>5</td>\n",
       "      <td>33</td>\n",
       "      <td>18</td>\n",
       "      <td>8</td>\n",
       "      <td>3</td>\n",
       "      <td>230</td>\n",
       "      <td>2018</td>\n",
       "      <td>3</td>\n",
       "      <td>71.818182</td>\n",
       "      <td>75.118750</td>\n",
       "      <td>129.584158</td>\n",
       "      <td>60.775</td>\n",
       "      <td>61.636364</td>\n",
       "      <td>61.636364</td>\n",
       "      <td>68.295943</td>\n",
       "      <td>23.0</td>\n",
       "      <td>21.0</td>\n",
       "      <td>91.0</td>\n",
       "      <td>91.0</td>\n",
       "      <td>59.75</td>\n",
       "    </tr>\n",
       "    <tr>\n",
       "      <th>4</th>\n",
       "      <td>2018-08-18</td>\n",
       "      <td>15</td>\n",
       "      <td>81</td>\n",
       "      <td>2018-08-18 15:00:00</td>\n",
       "      <td>5</td>\n",
       "      <td>33</td>\n",
       "      <td>18</td>\n",
       "      <td>8</td>\n",
       "      <td>3</td>\n",
       "      <td>230</td>\n",
       "      <td>2018</td>\n",
       "      <td>3</td>\n",
       "      <td>79.093023</td>\n",
       "      <td>78.950920</td>\n",
       "      <td>122.623762</td>\n",
       "      <td>60.775</td>\n",
       "      <td>61.636364</td>\n",
       "      <td>61.636364</td>\n",
       "      <td>68.295943</td>\n",
       "      <td>104.0</td>\n",
       "      <td>23.0</td>\n",
       "      <td>21.0</td>\n",
       "      <td>91.0</td>\n",
       "      <td>57.25</td>\n",
       "    </tr>\n",
       "  </tbody>\n",
       "</table>\n",
       "</div>"
      ],
      "text/plain": [
       "        date  hour  demand            new_date  day_of_week  week_of_year  day_from_date  month_of_year  quarter  day_of_year  year  hour_bucket  hour_month  hour_quarter  week_hour_demand  month_week_demand  month_day_date  week_day_date_demand  day_week_quarter  lag_1  lag_2  lag_3  lag_4  rolling_mean\n",
       "0 2018-08-18     9      91 2018-08-18 09:00:00            5            33             18              8        3          230  2018            2   63.219512     58.619355         71.979798             60.775       61.636364             61.636364         68.295943   91.0   91.0   91.0   91.0         59.75\n",
       "1 2018-08-18    10      21 2018-08-18 10:00:00            5            33             18              8        3          230  2018            4   56.761905     61.512500         84.564356             60.775       61.636364             61.636364         68.295943   91.0   91.0   91.0   91.0         59.75\n",
       "2 2018-08-18    13      23 2018-08-18 13:00:00            5            33             18              8        3          230  2018            3   68.477273     68.804878        127.356436             60.775       61.636364             61.636364         68.295943   21.0   91.0   91.0   91.0         59.75\n",
       "3 2018-08-18    14     104 2018-08-18 14:00:00            5            33             18              8        3          230  2018            3   71.818182     75.118750        129.584158             60.775       61.636364             61.636364         68.295943   23.0   21.0   91.0   91.0         59.75\n",
       "4 2018-08-18    15      81 2018-08-18 15:00:00            5            33             18              8        3          230  2018            3   79.093023     78.950920        122.623762             60.775       61.636364             61.636364         68.295943  104.0   23.0   21.0   91.0         57.25"
      ]
     },
     "execution_count": 57,
     "metadata": {},
     "output_type": "execute_result"
    }
   ],
   "source": [
    "train_set.head()"
   ]
  },
  {
   "cell_type": "code",
   "execution_count": 58,
   "id": "ce3200d8",
   "metadata": {},
   "outputs": [],
   "source": [
    "# (91+21+23+104+81+37+27)/7"
   ]
  },
  {
   "cell_type": "code",
   "execution_count": 59,
   "id": "b26344ac",
   "metadata": {},
   "outputs": [],
   "source": [
    "# dummy['new_hour']=pd.to_datetime(dummy['date'].astype(str) + ' ' + dummy['hour'].astype(str)+':00:00' )\n",
    "# dummy.sort_values(by='new_hour',inplace=True)"
   ]
  },
  {
   "cell_type": "markdown",
   "id": "3a03a7ba",
   "metadata": {},
   "source": [
    "# Feature Selection"
   ]
  },
  {
   "cell_type": "code",
   "execution_count": 60,
   "id": "47b187e9",
   "metadata": {},
   "outputs": [],
   "source": [
    "### moving target variable to last column \n",
    "train_set['demands']=train_set['demand']\n",
    "train_set.drop(['demand'],axis=1,inplace=True)\n",
    "train_set.rename(columns={'demands':'demand'},inplace=True)"
   ]
  },
  {
   "cell_type": "markdown",
   "id": "daa3e30f",
   "metadata": {},
   "source": [
    "## based on correlation pearson"
   ]
  },
  {
   "cell_type": "code",
   "execution_count": 61,
   "id": "552f6cb4",
   "metadata": {},
   "outputs": [
    {
     "data": {
      "text/plain": [
       "<AxesSubplot:>"
      ]
     },
     "execution_count": 61,
     "metadata": {},
     "output_type": "execute_result"
    },
    {
     "data": {
      "image/png": "[encoded data removed]",
      "text/plain": [
       "<Figure size 936x936 with 2 Axes>"
      ]
     },
     "metadata": {},
     "output_type": "display_data"
    }
   ],
   "source": [
    "corr=train_set.corr()\n",
    "fig, ax = plt.subplots(figsize=(13,13))\n",
    "ax=sns.heatmap(corr,annot=True,fmt='.2f')\n",
    "ax"
   ]
  },
  {
   "cell_type": "code",
   "execution_count": 62,
   "id": "24441d85",
   "metadata": {},
   "outputs": [],
   "source": [
    "X=train_set.drop(labels=[\"demand\",\"date\",\"new_date\"],axis=1)\n",
    "y=train_set['demand']\n"
   ]
  },
  {
   "cell_type": "code",
   "execution_count": 63,
   "id": "45c2b1cf",
   "metadata": {},
   "outputs": [
    {
     "data": {
      "text/html": [
       "<div>\n",
       "<style scoped>\n",
       "    .dataframe tbody tr th:only-of-type {\n",
       "        vertical-align: middle;\n",
       "    }\n",
       "\n",
       "    .dataframe tbody tr th {\n",
       "        vertical-align: top;\n",
       "    }\n",
       "\n",
       "    .dataframe thead th {\n",
       "        text-align: right;\n",
       "    }\n",
       "</style>\n",
       "<table border=\"1\" class=\"dataframe\">\n",
       "  <thead>\n",
       "    <tr style=\"text-align: right;\">\n",
       "      <th></th>\n",
       "      <th>hour</th>\n",
       "      <th>day_of_week</th>\n",
       "      <th>week_of_year</th>\n",
       "      <th>day_from_date</th>\n",
       "      <th>month_of_year</th>\n",
       "      <th>quarter</th>\n",
       "      <th>day_of_year</th>\n",
       "      <th>year</th>\n",
       "      <th>hour_bucket</th>\n",
       "      <th>hour_month</th>\n",
       "      <th>hour_quarter</th>\n",
       "      <th>week_hour_demand</th>\n",
       "      <th>month_week_demand</th>\n",
       "      <th>month_day_date</th>\n",
       "      <th>week_day_date_demand</th>\n",
       "      <th>day_week_quarter</th>\n",
       "      <th>lag_1</th>\n",
       "      <th>lag_2</th>\n",
       "      <th>lag_3</th>\n",
       "      <th>lag_4</th>\n",
       "      <th>rolling_mean</th>\n",
       "    </tr>\n",
       "  </thead>\n",
       "  <tbody>\n",
       "    <tr>\n",
       "      <th>0</th>\n",
       "      <td>9</td>\n",
       "      <td>5</td>\n",
       "      <td>33</td>\n",
       "      <td>18</td>\n",
       "      <td>8</td>\n",
       "      <td>3</td>\n",
       "      <td>230</td>\n",
       "      <td>2018</td>\n",
       "      <td>2</td>\n",
       "      <td>63.219512</td>\n",
       "      <td>58.619355</td>\n",
       "      <td>71.979798</td>\n",
       "      <td>60.775</td>\n",
       "      <td>61.636364</td>\n",
       "      <td>61.636364</td>\n",
       "      <td>68.295943</td>\n",
       "      <td>91.0</td>\n",
       "      <td>91.0</td>\n",
       "      <td>91.0</td>\n",
       "      <td>91.0</td>\n",
       "      <td>59.75</td>\n",
       "    </tr>\n",
       "    <tr>\n",
       "      <th>1</th>\n",
       "      <td>10</td>\n",
       "      <td>5</td>\n",
       "      <td>33</td>\n",
       "      <td>18</td>\n",
       "      <td>8</td>\n",
       "      <td>3</td>\n",
       "      <td>230</td>\n",
       "      <td>2018</td>\n",
       "      <td>4</td>\n",
       "      <td>56.761905</td>\n",
       "      <td>61.512500</td>\n",
       "      <td>84.564356</td>\n",
       "      <td>60.775</td>\n",
       "      <td>61.636364</td>\n",
       "      <td>61.636364</td>\n",
       "      <td>68.295943</td>\n",
       "      <td>91.0</td>\n",
       "      <td>91.0</td>\n",
       "      <td>91.0</td>\n",
       "      <td>91.0</td>\n",
       "      <td>59.75</td>\n",
       "    </tr>\n",
       "    <tr>\n",
       "      <th>2</th>\n",
       "      <td>13</td>\n",
       "      <td>5</td>\n",
       "      <td>33</td>\n",
       "      <td>18</td>\n",
       "      <td>8</td>\n",
       "      <td>3</td>\n",
       "      <td>230</td>\n",
       "      <td>2018</td>\n",
       "      <td>3</td>\n",
       "      <td>68.477273</td>\n",
       "      <td>68.804878</td>\n",
       "      <td>127.356436</td>\n",
       "      <td>60.775</td>\n",
       "      <td>61.636364</td>\n",
       "      <td>61.636364</td>\n",
       "      <td>68.295943</td>\n",
       "      <td>21.0</td>\n",
       "      <td>91.0</td>\n",
       "      <td>91.0</td>\n",
       "      <td>91.0</td>\n",
       "      <td>59.75</td>\n",
       "    </tr>\n",
       "    <tr>\n",
       "      <th>3</th>\n",
       "      <td>14</td>\n",
       "      <td>5</td>\n",
       "      <td>33</td>\n",
       "      <td>18</td>\n",
       "      <td>8</td>\n",
       "      <td>3</td>\n",
       "      <td>230</td>\n",
       "      <td>2018</td>\n",
       "      <td>3</td>\n",
       "      <td>71.818182</td>\n",
       "      <td>75.118750</td>\n",
       "      <td>129.584158</td>\n",
       "      <td>60.775</td>\n",
       "      <td>61.636364</td>\n",
       "      <td>61.636364</td>\n",
       "      <td>68.295943</td>\n",
       "      <td>23.0</td>\n",
       "      <td>21.0</td>\n",
       "      <td>91.0</td>\n",
       "      <td>91.0</td>\n",
       "      <td>59.75</td>\n",
       "    </tr>\n",
       "    <tr>\n",
       "      <th>4</th>\n",
       "      <td>15</td>\n",
       "      <td>5</td>\n",
       "      <td>33</td>\n",
       "      <td>18</td>\n",
       "      <td>8</td>\n",
       "      <td>3</td>\n",
       "      <td>230</td>\n",
       "      <td>2018</td>\n",
       "      <td>3</td>\n",
       "      <td>79.093023</td>\n",
       "      <td>78.950920</td>\n",
       "      <td>122.623762</td>\n",
       "      <td>60.775</td>\n",
       "      <td>61.636364</td>\n",
       "      <td>61.636364</td>\n",
       "      <td>68.295943</td>\n",
       "      <td>104.0</td>\n",
       "      <td>23.0</td>\n",
       "      <td>21.0</td>\n",
       "      <td>91.0</td>\n",
       "      <td>57.25</td>\n",
       "    </tr>\n",
       "  </tbody>\n",
       "</table>\n",
       "</div>"
      ],
      "text/plain": [
       "   hour  day_of_week  week_of_year  day_from_date  month_of_year  quarter  day_of_year  year  hour_bucket  hour_month  hour_quarter  week_hour_demand  month_week_demand  month_day_date  week_day_date_demand  day_week_quarter  lag_1  lag_2  lag_3  lag_4  rolling_mean\n",
       "0     9            5            33             18              8        3          230  2018            2   63.219512     58.619355         71.979798             60.775       61.636364             61.636364         68.295943   91.0   91.0   91.0   91.0         59.75\n",
       "1    10            5            33             18              8        3          230  2018            4   56.761905     61.512500         84.564356             60.775       61.636364             61.636364         68.295943   91.0   91.0   91.0   91.0         59.75\n",
       "2    13            5            33             18              8        3          230  2018            3   68.477273     68.804878        127.356436             60.775       61.636364             61.636364         68.295943   21.0   91.0   91.0   91.0         59.75\n",
       "3    14            5            33             18              8        3          230  2018            3   71.818182     75.118750        129.584158             60.775       61.636364             61.636364         68.295943   23.0   21.0   91.0   91.0         59.75\n",
       "4    15            5            33             18              8        3          230  2018            3   79.093023     78.950920        122.623762             60.775       61.636364             61.636364         68.295943  104.0   23.0   21.0   91.0         57.25"
      ]
     },
     "execution_count": 63,
     "metadata": {},
     "output_type": "execute_result"
    }
   ],
   "source": [
    "X.head()"
   ]
  },
  {
   "cell_type": "markdown",
   "id": "27b99368",
   "metadata": {},
   "source": [
    "## select kbest"
   ]
  },
  {
   "cell_type": "code",
   "execution_count": 64,
   "id": "a65d913f",
   "metadata": {},
   "outputs": [],
   "source": [
    "from sklearn.feature_selection import SelectKBest,f_regression\n",
    "fs=SelectKBest(score_func=f_regression,k=10)\n",
    "fit=fs.fit(X,y)\n"
   ]
  },
  {
   "cell_type": "code",
   "execution_count": 65,
   "id": "aed7ecb8",
   "metadata": {},
   "outputs": [
    {
     "data": {
      "text/html": [
       "<div>\n",
       "<style scoped>\n",
       "    .dataframe tbody tr th:only-of-type {\n",
       "        vertical-align: middle;\n",
       "    }\n",
       "\n",
       "    .dataframe tbody tr th {\n",
       "        vertical-align: top;\n",
       "    }\n",
       "\n",
       "    .dataframe thead th {\n",
       "        text-align: right;\n",
       "    }\n",
       "</style>\n",
       "<table border=\"1\" class=\"dataframe\">\n",
       "  <thead>\n",
       "    <tr style=\"text-align: right;\">\n",
       "      <th></th>\n",
       "      <th>input</th>\n",
       "      <th>F</th>\n",
       "      <th>p</th>\n",
       "    </tr>\n",
       "  </thead>\n",
       "  <tbody>\n",
       "    <tr>\n",
       "      <th>20</th>\n",
       "      <td>rolling_mean</td>\n",
       "      <td>16042.384565</td>\n",
       "      <td>0.000000e+00</td>\n",
       "    </tr>\n",
       "    <tr>\n",
       "      <th>9</th>\n",
       "      <td>hour_month</td>\n",
       "      <td>3815.292829</td>\n",
       "      <td>0.000000e+00</td>\n",
       "    </tr>\n",
       "    <tr>\n",
       "      <th>16</th>\n",
       "      <td>lag_1</td>\n",
       "      <td>3564.303243</td>\n",
       "      <td>0.000000e+00</td>\n",
       "    </tr>\n",
       "    <tr>\n",
       "      <th>11</th>\n",
       "      <td>week_hour_demand</td>\n",
       "      <td>3071.747060</td>\n",
       "      <td>0.000000e+00</td>\n",
       "    </tr>\n",
       "    <tr>\n",
       "      <th>14</th>\n",
       "      <td>week_day_date_demand</td>\n",
       "      <td>2755.725402</td>\n",
       "      <td>0.000000e+00</td>\n",
       "    </tr>\n",
       "    <tr>\n",
       "      <th>10</th>\n",
       "      <td>hour_quarter</td>\n",
       "      <td>2517.069910</td>\n",
       "      <td>0.000000e+00</td>\n",
       "    </tr>\n",
       "    <tr>\n",
       "      <th>13</th>\n",
       "      <td>month_day_date</td>\n",
       "      <td>2487.548196</td>\n",
       "      <td>0.000000e+00</td>\n",
       "    </tr>\n",
       "    <tr>\n",
       "      <th>17</th>\n",
       "      <td>lag_2</td>\n",
       "      <td>2483.683534</td>\n",
       "      <td>0.000000e+00</td>\n",
       "    </tr>\n",
       "    <tr>\n",
       "      <th>18</th>\n",
       "      <td>lag_3</td>\n",
       "      <td>1816.329538</td>\n",
       "      <td>0.000000e+00</td>\n",
       "    </tr>\n",
       "    <tr>\n",
       "      <th>12</th>\n",
       "      <td>month_week_demand</td>\n",
       "      <td>1323.360159</td>\n",
       "      <td>3.037416e-277</td>\n",
       "    </tr>\n",
       "    <tr>\n",
       "      <th>19</th>\n",
       "      <td>lag_4</td>\n",
       "      <td>1069.229942</td>\n",
       "      <td>2.911558e-226</td>\n",
       "    </tr>\n",
       "    <tr>\n",
       "      <th>15</th>\n",
       "      <td>day_week_quarter</td>\n",
       "      <td>725.073838</td>\n",
       "      <td>7.623925e-156</td>\n",
       "    </tr>\n",
       "    <tr>\n",
       "      <th>0</th>\n",
       "      <td>hour</td>\n",
       "      <td>375.652642</td>\n",
       "      <td>1.248356e-82</td>\n",
       "    </tr>\n",
       "    <tr>\n",
       "      <th>1</th>\n",
       "      <td>day_of_week</td>\n",
       "      <td>283.763902</td>\n",
       "      <td>4.580158e-63</td>\n",
       "    </tr>\n",
       "    <tr>\n",
       "      <th>8</th>\n",
       "      <td>hour_bucket</td>\n",
       "      <td>193.483747</td>\n",
       "      <td>1.060536e-43</td>\n",
       "    </tr>\n",
       "    <tr>\n",
       "      <th>3</th>\n",
       "      <td>day_from_date</td>\n",
       "      <td>23.334365</td>\n",
       "      <td>1.375516e-06</td>\n",
       "    </tr>\n",
       "    <tr>\n",
       "      <th>4</th>\n",
       "      <td>month_of_year</td>\n",
       "      <td>19.283708</td>\n",
       "      <td>1.134699e-05</td>\n",
       "    </tr>\n",
       "    <tr>\n",
       "      <th>6</th>\n",
       "      <td>day_of_year</td>\n",
       "      <td>16.097566</td>\n",
       "      <td>6.046645e-05</td>\n",
       "    </tr>\n",
       "    <tr>\n",
       "      <th>2</th>\n",
       "      <td>week_of_year</td>\n",
       "      <td>15.579776</td>\n",
       "      <td>7.947320e-05</td>\n",
       "    </tr>\n",
       "  </tbody>\n",
       "</table>\n",
       "</div>"
      ],
      "text/plain": [
       "                   input             F              p\n",
       "20          rolling_mean  16042.384565   0.000000e+00\n",
       "9             hour_month   3815.292829   0.000000e+00\n",
       "16                 lag_1   3564.303243   0.000000e+00\n",
       "11      week_hour_demand   3071.747060   0.000000e+00\n",
       "14  week_day_date_demand   2755.725402   0.000000e+00\n",
       "10          hour_quarter   2517.069910   0.000000e+00\n",
       "13        month_day_date   2487.548196   0.000000e+00\n",
       "17                 lag_2   2483.683534   0.000000e+00\n",
       "18                 lag_3   1816.329538   0.000000e+00\n",
       "12     month_week_demand   1323.360159  3.037416e-277\n",
       "19                 lag_4   1069.229942  2.911558e-226\n",
       "15      day_week_quarter    725.073838  7.623925e-156\n",
       "0                   hour    375.652642   1.248356e-82\n",
       "1            day_of_week    283.763902   4.580158e-63\n",
       "8            hour_bucket    193.483747   1.060536e-43\n",
       "3          day_from_date     23.334365   1.375516e-06\n",
       "4          month_of_year     19.283708   1.134699e-05\n",
       "6            day_of_year     16.097566   6.046645e-05\n",
       "2           week_of_year     15.579776   7.947320e-05"
      ]
     },
     "execution_count": 65,
     "metadata": {},
     "output_type": "execute_result"
    }
   ],
   "source": [
    "features_score=pd.DataFrame(fit.scores_)\n",
    "features_pvalues=pd.DataFrame(fit.pvalues_)\n",
    "features=pd.DataFrame(X.columns)\n",
    "feature_score=pd.concat([features,features_score,features_pvalues],axis=1)\n",
    "feature_score.columns=['input',\"F\",\"p\"]\n",
    "feature_score.nlargest(19,columns='F')"
   ]
  },
  {
   "cell_type": "markdown",
   "id": "61dafe22",
   "metadata": {},
   "source": [
    "## making best features in valid1,valid2,test set"
   ]
  },
  {
   "cell_type": "code",
   "execution_count": 66,
   "id": "c6260d20",
   "metadata": {},
   "outputs": [],
   "source": [
    "valid1.reset_index(inplace=True)\n",
    "valid2.reset_index(inplace=True)\n",
    "test.reset_index(inplace=True)\n"
   ]
  },
  {
   "cell_type": "code",
   "execution_count": 67,
   "id": "780efcc5",
   "metadata": {},
   "outputs": [
    {
     "data": {
      "text/html": [
       "<div>\n",
       "<style scoped>\n",
       "    .dataframe tbody tr th:only-of-type {\n",
       "        vertical-align: middle;\n",
       "    }\n",
       "\n",
       "    .dataframe tbody tr th {\n",
       "        vertical-align: top;\n",
       "    }\n",
       "\n",
       "    .dataframe thead th {\n",
       "        text-align: right;\n",
       "    }\n",
       "</style>\n",
       "<table border=\"1\" class=\"dataframe\">\n",
       "  <thead>\n",
       "    <tr style=\"text-align: right;\">\n",
       "      <th></th>\n",
       "      <th>index</th>\n",
       "      <th>date</th>\n",
       "      <th>hour</th>\n",
       "      <th>new_date</th>\n",
       "      <th>day_of_week</th>\n",
       "      <th>week_of_year</th>\n",
       "      <th>day_from_date</th>\n",
       "      <th>month_of_year</th>\n",
       "      <th>quarter</th>\n",
       "      <th>day_of_year</th>\n",
       "      <th>year</th>\n",
       "      <th>hour_bucket</th>\n",
       "    </tr>\n",
       "  </thead>\n",
       "  <tbody>\n",
       "    <tr>\n",
       "      <th>0</th>\n",
       "      <td>0</td>\n",
       "      <td>2021-03-01</td>\n",
       "      <td>0</td>\n",
       "      <td>2021-03-01 00:00:00</td>\n",
       "      <td>0</td>\n",
       "      <td>9</td>\n",
       "      <td>1</td>\n",
       "      <td>3</td>\n",
       "      <td>1</td>\n",
       "      <td>60</td>\n",
       "      <td>2021</td>\n",
       "      <td>4</td>\n",
       "    </tr>\n",
       "    <tr>\n",
       "      <th>1</th>\n",
       "      <td>1</td>\n",
       "      <td>2021-03-01</td>\n",
       "      <td>1</td>\n",
       "      <td>2021-03-01 01:00:00</td>\n",
       "      <td>0</td>\n",
       "      <td>9</td>\n",
       "      <td>1</td>\n",
       "      <td>3</td>\n",
       "      <td>1</td>\n",
       "      <td>60</td>\n",
       "      <td>2021</td>\n",
       "      <td>1</td>\n",
       "    </tr>\n",
       "    <tr>\n",
       "      <th>2</th>\n",
       "      <td>2</td>\n",
       "      <td>2021-03-01</td>\n",
       "      <td>2</td>\n",
       "      <td>2021-03-01 02:00:00</td>\n",
       "      <td>0</td>\n",
       "      <td>9</td>\n",
       "      <td>1</td>\n",
       "      <td>3</td>\n",
       "      <td>1</td>\n",
       "      <td>60</td>\n",
       "      <td>2021</td>\n",
       "      <td>1</td>\n",
       "    </tr>\n",
       "  </tbody>\n",
       "</table>\n",
       "</div>"
      ],
      "text/plain": [
       "   index       date  hour            new_date  day_of_week  week_of_year  day_from_date  month_of_year  quarter  day_of_year  year  hour_bucket\n",
       "0      0 2021-03-01     0 2021-03-01 00:00:00            0             9              1              3        1           60  2021            4\n",
       "1      1 2021-03-01     1 2021-03-01 01:00:00            0             9              1              3        1           60  2021            1\n",
       "2      2 2021-03-01     2 2021-03-01 02:00:00            0             9              1              3        1           60  2021            1"
      ]
     },
     "metadata": {},
     "output_type": "display_data"
    },
    {
     "data": {
      "text/html": [
       "<div>\n",
       "<style scoped>\n",
       "    .dataframe tbody tr th:only-of-type {\n",
       "        vertical-align: middle;\n",
       "    }\n",
       "\n",
       "    .dataframe tbody tr th {\n",
       "        vertical-align: top;\n",
       "    }\n",
       "\n",
       "    .dataframe thead th {\n",
       "        text-align: right;\n",
       "    }\n",
       "</style>\n",
       "<table border=\"1\" class=\"dataframe\">\n",
       "  <thead>\n",
       "    <tr style=\"text-align: right;\">\n",
       "      <th></th>\n",
       "      <th>index</th>\n",
       "      <th>date</th>\n",
       "      <th>hour</th>\n",
       "      <th>demand</th>\n",
       "      <th>new_date</th>\n",
       "      <th>day_of_week</th>\n",
       "      <th>week_of_year</th>\n",
       "      <th>day_from_date</th>\n",
       "      <th>month_of_year</th>\n",
       "      <th>quarter</th>\n",
       "      <th>day_of_year</th>\n",
       "      <th>year</th>\n",
       "      <th>hour_bucket</th>\n",
       "    </tr>\n",
       "  </thead>\n",
       "  <tbody>\n",
       "    <tr>\n",
       "      <th>0</th>\n",
       "      <td>14354</td>\n",
       "      <td>2020-08-01</td>\n",
       "      <td>0</td>\n",
       "      <td>2</td>\n",
       "      <td>2020-08-01 00:00:00</td>\n",
       "      <td>5</td>\n",
       "      <td>31</td>\n",
       "      <td>1</td>\n",
       "      <td>8</td>\n",
       "      <td>3</td>\n",
       "      <td>214</td>\n",
       "      <td>2020</td>\n",
       "      <td>4</td>\n",
       "    </tr>\n",
       "    <tr>\n",
       "      <th>1</th>\n",
       "      <td>14355</td>\n",
       "      <td>2020-08-01</td>\n",
       "      <td>1</td>\n",
       "      <td>15</td>\n",
       "      <td>2020-08-01 01:00:00</td>\n",
       "      <td>5</td>\n",
       "      <td>31</td>\n",
       "      <td>1</td>\n",
       "      <td>8</td>\n",
       "      <td>3</td>\n",
       "      <td>214</td>\n",
       "      <td>2020</td>\n",
       "      <td>1</td>\n",
       "    </tr>\n",
       "    <tr>\n",
       "      <th>2</th>\n",
       "      <td>14356</td>\n",
       "      <td>2020-08-01</td>\n",
       "      <td>2</td>\n",
       "      <td>44</td>\n",
       "      <td>2020-08-01 02:00:00</td>\n",
       "      <td>5</td>\n",
       "      <td>31</td>\n",
       "      <td>1</td>\n",
       "      <td>8</td>\n",
       "      <td>3</td>\n",
       "      <td>214</td>\n",
       "      <td>2020</td>\n",
       "      <td>1</td>\n",
       "    </tr>\n",
       "  </tbody>\n",
       "</table>\n",
       "</div>"
      ],
      "text/plain": [
       "   index       date  hour  demand            new_date  day_of_week  week_of_year  day_from_date  month_of_year  quarter  day_of_year  year  hour_bucket\n",
       "0  14354 2020-08-01     0       2 2020-08-01 00:00:00            5            31              1              8        3          214  2020            4\n",
       "1  14355 2020-08-01     1      15 2020-08-01 01:00:00            5            31              1              8        3          214  2020            1\n",
       "2  14356 2020-08-01     2      44 2020-08-01 02:00:00            5            31              1              8        3          214  2020            1"
      ]
     },
     "metadata": {},
     "output_type": "display_data"
    },
    {
     "data": {
      "text/html": [
       "<div>\n",
       "<style scoped>\n",
       "    .dataframe tbody tr th:only-of-type {\n",
       "        vertical-align: middle;\n",
       "    }\n",
       "\n",
       "    .dataframe tbody tr th {\n",
       "        vertical-align: top;\n",
       "    }\n",
       "\n",
       "    .dataframe thead th {\n",
       "        text-align: right;\n",
       "    }\n",
       "</style>\n",
       "<table border=\"1\" class=\"dataframe\">\n",
       "  <thead>\n",
       "    <tr style=\"text-align: right;\">\n",
       "      <th></th>\n",
       "      <th>index</th>\n",
       "      <th>date</th>\n",
       "      <th>hour</th>\n",
       "      <th>demand</th>\n",
       "      <th>new_date</th>\n",
       "      <th>day_of_week</th>\n",
       "      <th>week_of_year</th>\n",
       "      <th>day_from_date</th>\n",
       "      <th>month_of_year</th>\n",
       "      <th>quarter</th>\n",
       "      <th>day_of_year</th>\n",
       "      <th>year</th>\n",
       "      <th>hour_bucket</th>\n",
       "    </tr>\n",
       "  </thead>\n",
       "  <tbody>\n",
       "    <tr>\n",
       "      <th>0</th>\n",
       "      <td>16828</td>\n",
       "      <td>2020-12-27</td>\n",
       "      <td>0</td>\n",
       "      <td>71</td>\n",
       "      <td>2020-12-27 00:00:00</td>\n",
       "      <td>6</td>\n",
       "      <td>52</td>\n",
       "      <td>27</td>\n",
       "      <td>12</td>\n",
       "      <td>4</td>\n",
       "      <td>362</td>\n",
       "      <td>2020</td>\n",
       "      <td>4</td>\n",
       "    </tr>\n",
       "    <tr>\n",
       "      <th>1</th>\n",
       "      <td>16829</td>\n",
       "      <td>2020-12-27</td>\n",
       "      <td>1</td>\n",
       "      <td>59</td>\n",
       "      <td>2020-12-27 01:00:00</td>\n",
       "      <td>6</td>\n",
       "      <td>52</td>\n",
       "      <td>27</td>\n",
       "      <td>12</td>\n",
       "      <td>4</td>\n",
       "      <td>362</td>\n",
       "      <td>2020</td>\n",
       "      <td>1</td>\n",
       "    </tr>\n",
       "    <tr>\n",
       "      <th>2</th>\n",
       "      <td>16830</td>\n",
       "      <td>2020-12-27</td>\n",
       "      <td>2</td>\n",
       "      <td>75</td>\n",
       "      <td>2020-12-27 02:00:00</td>\n",
       "      <td>6</td>\n",
       "      <td>52</td>\n",
       "      <td>27</td>\n",
       "      <td>12</td>\n",
       "      <td>4</td>\n",
       "      <td>362</td>\n",
       "      <td>2020</td>\n",
       "      <td>1</td>\n",
       "    </tr>\n",
       "  </tbody>\n",
       "</table>\n",
       "</div>"
      ],
      "text/plain": [
       "   index       date  hour  demand            new_date  day_of_week  week_of_year  day_from_date  month_of_year  quarter  day_of_year  year  hour_bucket\n",
       "0  16828 2020-12-27     0      71 2020-12-27 00:00:00            6            52             27             12        4          362  2020            4\n",
       "1  16829 2020-12-27     1      59 2020-12-27 01:00:00            6            52             27             12        4          362  2020            1\n",
       "2  16830 2020-12-27     2      75 2020-12-27 02:00:00            6            52             27             12        4          362  2020            1"
      ]
     },
     "metadata": {},
     "output_type": "display_data"
    }
   ],
   "source": [
    "display(test.head(3))\n",
    "display(valid1.head(3))\n",
    "display(valid2.head(3))"
   ]
  },
  {
   "cell_type": "code",
   "execution_count": 68,
   "id": "5cd8b476",
   "metadata": {},
   "outputs": [],
   "source": [
    "#2 level groupby features with mapping into validations, test set\n",
    "def groupedby_features_test(df,df1,df2,df3,feature1,feature2,feature3,new_feature):\n",
    "    \n",
    "    mapper=df.groupby([feature1,feature2])[feature3].mean().to_dict()\n",
    "    df[new_feature] = list(zip(df[feature1], df[feature2]))\n",
    "    df[new_feature]=df[new_feature].map(mapper)       \n",
    "    \n",
    "    \n",
    "    #valid_1\n",
    "    df1[new_feature] = list(zip(df1[feature1], df1[feature2]))\n",
    "    df1[new_feature]=df1[new_feature].map(mapper)       \n",
    "    #valid_2\n",
    "    df2[new_feature] = list(zip(df2[feature1], df2[feature2]))\n",
    "    df2[new_feature]=df2[new_feature].map(mapper)       \n",
    "    #test\n",
    "    df3[new_feature] = list(zip(df3[feature1], df3[feature2]))\n",
    "    df3[new_feature]=df3[new_feature].map(mapper)       \n",
    "    \n",
    "    #used bfill as recent values matters in time series data or have larger importance\n",
    "    df1.fillna(method ='ffill',inplace=True)\n",
    "    df2.fillna(method ='ffill',inplace=True)\n",
    "    df3.fillna(method ='ffill',inplace=True)\n",
    "    \n",
    "    print(f\"{new_feature}' is succesfully made'\".format(new_feature))\n",
    "    return df1[new_feature],df2[new_feature],df3[new_feature]"
   ]
  },
  {
   "cell_type": "code",
   "execution_count": 69,
   "id": "02de9e3f",
   "metadata": {},
   "outputs": [
    {
     "name": "stdout",
     "output_type": "stream",
     "text": [
      "hour_month' is succesfully made'\n",
      "hour_quarter' is succesfully made'\n",
      "week_hour_demand' is succesfully made'\n",
      "month_week_demand' is succesfully made'\n",
      "month_day_date' is succesfully made'\n",
      "day_week_quarter' is succesfully made'\n",
      "week_day_date_demand' is succesfully made'\n"
     ]
    }
   ],
   "source": [
    "#hour\n",
    "valid1['hour_month'],valid2['hour_month'],test['hour_month']=groupedby_features_test(train_set.copy(),valid1.copy(),valid2.copy(),test.copy(),'hour','month_of_year','demand','hour_month')\n",
    "valid1['hour_quarter'],valid2['hour_quarter'],test['hour_quarter']=groupedby_features_test(train_set.copy(),valid1.copy(),valid2.copy(),test.copy(),'hour','quarter','demand','hour_quarter')\n",
    "\n",
    "#day of week\n",
    "valid1['week_hour_demand'],valid2['week_hour_demand'],test['week_hour_demand']=groupedby_features_test(train_set.copy(),valid1.copy(),valid2.copy(),test.copy(),'day_of_week','hour','demand','week_hour_demand')\n",
    "valid1['month_week_demand'],valid2['month_week_demand'],test['month_week_demand']=groupedby_features_test(train_set.copy(),valid1.copy(),valid2.copy(),test.copy(),'month_of_year','day_of_week','demand','month_week_demand')\n",
    "\n",
    "#day from date,month of year\n",
    "valid1['month_day_date'],valid2['month_day_date'],test['month_day_date']=groupedby_features_test(train_set.copy(),valid1.copy(),valid2.copy(),test.copy(),'month_of_year','day_from_date','demand','month_day_date')\n",
    "\n",
    "#day_of_week, quarter\n",
    "valid1['day_week_quarter'],valid2['day_week_quarter'],test['day_week_quarter']=groupedby_features_test(train_set.copy(),valid1.copy(),valid2.copy(),test.copy(),'day_of_week','quarter','demand','day_week_quarter')\n",
    "\n",
    "#week_day_date_demand\n",
    "valid1['week_day_date_demand'],valid2['week_day_date_demand'],test['week_day_date_demand']=groupedby_features_test(train_set.copy(),valid1.copy(),valid2.copy(),test.copy(),'week_of_year','day_from_date','demand','week_day_date_demand')\n"
   ]
  },
  {
   "cell_type": "code",
   "execution_count": null,
   "id": "7d18b433",
   "metadata": {},
   "outputs": [],
   "source": []
  },
  {
   "cell_type": "code",
   "execution_count": 70,
   "id": "a1ce411a",
   "metadata": {},
   "outputs": [
    {
     "name": "stdout",
     "output_type": "stream",
     "text": [
      "<class 'pandas.core.frame.DataFrame'>\n",
      "RangeIndex: 1419 entries, 0 to 1418\n",
      "Data columns (total 20 columns):\n",
      " #   Column                Non-Null Count  Dtype         \n",
      "---  ------                --------------  -----         \n",
      " 0   index                 1419 non-null   int64         \n",
      " 1   date                  1419 non-null   datetime64[ns]\n",
      " 2   hour                  1419 non-null   int64         \n",
      " 3   demand                1419 non-null   int64         \n",
      " 4   new_date              1419 non-null   datetime64[ns]\n",
      " 5   day_of_week           1419 non-null   int64         \n",
      " 6   week_of_year          1419 non-null   int64         \n",
      " 7   day_from_date         1419 non-null   int64         \n",
      " 8   month_of_year         1419 non-null   int64         \n",
      " 9   quarter               1419 non-null   int64         \n",
      " 10  day_of_year           1419 non-null   int64         \n",
      " 11  year                  1419 non-null   int64         \n",
      " 12  hour_bucket           1419 non-null   int64         \n",
      " 13  hour_month            1419 non-null   float64       \n",
      " 14  hour_quarter          1419 non-null   float64       \n",
      " 15  week_hour_demand      1419 non-null   float64       \n",
      " 16  month_week_demand     1419 non-null   float64       \n",
      " 17  month_day_date        1419 non-null   float64       \n",
      " 18  day_week_quarter      1419 non-null   float64       \n",
      " 19  week_day_date_demand  1419 non-null   float64       \n",
      "dtypes: datetime64[ns](2), float64(7), int64(11)\n",
      "memory usage: 221.8 KB\n"
     ]
    }
   ],
   "source": [
    "valid2.info()"
   ]
  },
  {
   "cell_type": "markdown",
   "id": "ae5a7ed9",
   "metadata": {},
   "source": [
    "## to apply rolling mean and lag features we have to concat the whole data set as target variable is not present in future/test data set"
   ]
  },
  {
   "cell_type": "code",
   "execution_count": 71,
   "id": "084fd487",
   "metadata": {},
   "outputs": [
    {
     "data": {
      "text/plain": [
       "Timestamp('2021-03-01 00:00:00')"
      ]
     },
     "execution_count": 71,
     "metadata": {},
     "output_type": "execute_result"
    }
   ],
   "source": [
    "test.date.min()"
   ]
  },
  {
   "cell_type": "code",
   "execution_count": 72,
   "id": "cb54437a",
   "metadata": {},
   "outputs": [],
   "source": [
    "full_data=pd.concat([valid1,valid2,test])"
   ]
  },
  {
   "cell_type": "code",
   "execution_count": 73,
   "id": "76001f77",
   "metadata": {},
   "outputs": [
    {
     "data": {
      "text/plain": [
       "(11543, 20)"
      ]
     },
     "execution_count": 73,
     "metadata": {},
     "output_type": "execute_result"
    }
   ],
   "source": [
    "full_data.shape"
   ]
  },
  {
   "cell_type": "code",
   "execution_count": 74,
   "id": "f0095a45",
   "metadata": {},
   "outputs": [
    {
     "data": {
      "text/plain": [
       "11543"
      ]
     },
     "execution_count": 74,
     "metadata": {},
     "output_type": "execute_result"
    }
   ],
   "source": [
    "valid1.shape[0]+valid2.shape[0]+test.shape[0]"
   ]
  },
  {
   "cell_type": "code",
   "execution_count": 75,
   "id": "a66b3a4b",
   "metadata": {},
   "outputs": [],
   "source": [
    "full_data.reset_index(inplace=True,drop=True)"
   ]
  },
  {
   "cell_type": "markdown",
   "id": "9fbfea6e",
   "metadata": {},
   "source": [
    "## lag features"
   ]
  },
  {
   "cell_type": "code",
   "execution_count": 76,
   "id": "e73454e1",
   "metadata": {},
   "outputs": [],
   "source": [
    "# full_data['lag_1'] = full_data['demand'].shift(1)\n",
    "# full_data['lag_2'] = full_data['demand'].shift(2)\n",
    "# full_data['lag_3'] = full_data['demand'].shift(3)\n",
    "# full_data['lag_4'] = full_data['demand'].shift(4)\n"
   ]
  },
  {
   "cell_type": "markdown",
   "id": "2f14c56d",
   "metadata": {},
   "source": [
    "## rolling mean"
   ]
  },
  {
   "cell_type": "code",
   "execution_count": null,
   "id": "72fe8f22",
   "metadata": {},
   "outputs": [],
   "source": [
    "full_data['rolling_mean']=np.nan"
   ]
  },
  {
   "cell_type": "code",
   "execution_count": null,
   "id": "2a2bc3be",
   "metadata": {},
   "outputs": [],
   "source": [
    "# full_data['rolling_mean'] = np.where(full_data['demand'].isnull(),full_data['rolling_mean'].rolling(window=4,closed='left').mean(),full_data['demand'].rolling(window=4).mean())\n"
   ]
  },
  {
   "cell_type": "code",
   "execution_count": null,
   "id": "5fa747c7",
   "metadata": {},
   "outputs": [],
   "source": [
    "full_data['rolling_mean']=full_data['demand'].rolling(window=5,closed='left').mean()"
   ]
  },
  {
   "cell_type": "code",
   "execution_count": null,
   "id": "4482281f",
   "metadata": {},
   "outputs": [],
   "source": [
    "# # full_data['rolling_mean'] = np.where(full_data['demand'].isnull(),full_data['rolling_mean'].rolling(window=4,closed='left').mean(),full_data['demand'].rolling(window=4).mean())\n",
    "# # full_data.reset_index(inplace=True)\n",
    "# # full_data.level_0[6]-4\n",
    "# full_data['rolling_mean'][4:5].mean()"
   ]
  },
  {
   "cell_type": "code",
   "execution_count": null,
   "id": "524204fc",
   "metadata": {},
   "outputs": [],
   "source": [
    "# for a,i,j in zip(full_data.level_0,full_data['date'],full_data['demand']):\n",
    "#         if(i>=pd.to_datetime('2021-03-01')):\n",
    "#                 #print(full_data.level_0[a])\n",
    "#                 full_data['rolling_mean'][a]=full_data['rolling_mean'][full_data.level_0[a]-4:full_data.level_0[a]].mean()\n",
    "#                 print(full_data['rolling_mean'][full_data.level_0[a]-4:full_data.level_0[a]])\n",
    "#                 print(j)"
   ]
  },
  {
   "cell_type": "markdown",
   "id": "378a97c6",
   "metadata": {},
   "source": [
    "### did not apply lag and rolling mean as was not able to replicate them on test set"
   ]
  },
  {
   "cell_type": "markdown",
   "id": "337c6ce5",
   "metadata": {},
   "source": [
    "# Models"
   ]
  },
  {
   "cell_type": "code",
   "execution_count": 77,
   "id": "a816174b",
   "metadata": {},
   "outputs": [],
   "source": [
    "from sklearn.linear_model import LinearRegression\n",
    "\n",
    "from sklearn.tree import DecisionTreeRegressor\n",
    "from sklearn.ensemble import RandomForestRegressor\n",
    "import xgboost as xgb\n",
    "from xgboost import XGBRegressor\n",
    "\n",
    "import lightgbm as lgb\n",
    "from sklearn.metrics import mean_squared_error\n",
    "from sklearn.metrics import r2_score\n",
    "\n"
   ]
  },
  {
   "cell_type": "code",
   "execution_count": 78,
   "id": "4c66e8e9",
   "metadata": {},
   "outputs": [],
   "source": [
    "x_train=train_set[['hour_month','hour_quarter','week_hour_demand','month_week_demand','day_week_quarter','month_day_date','hour','day_of_week']]\n",
    "y_train=train_set['demand']"
   ]
  },
  {
   "cell_type": "code",
   "execution_count": 79,
   "id": "8d2e7c4c",
   "metadata": {},
   "outputs": [],
   "source": [
    "x_valid1=valid1[['hour_month','hour_quarter','week_hour_demand','month_week_demand','day_week_quarter','month_day_date','hour','day_of_week']]\n",
    "y_valid1=valid1['demand']"
   ]
  },
  {
   "cell_type": "code",
   "execution_count": 80,
   "id": "cd4d4f42",
   "metadata": {},
   "outputs": [],
   "source": [
    "x_valid2=valid2[['hour_month','hour_quarter','week_hour_demand','month_week_demand','day_week_quarter','month_day_date','hour','day_of_week']]\n",
    "y_valid2=valid2['demand']"
   ]
  },
  {
   "cell_type": "code",
   "execution_count": 81,
   "id": "747fd651",
   "metadata": {},
   "outputs": [],
   "source": [
    "x_test=test[['hour_month','hour_quarter','week_hour_demand','month_week_demand','day_week_quarter','month_day_date','hour','day_of_week']]\n"
   ]
  },
  {
   "cell_type": "code",
   "execution_count": 82,
   "id": "88ab7c5a",
   "metadata": {},
   "outputs": [],
   "source": [
    "\n",
    "# Defining Lists to Store in the Results and Names of Algorithms\n",
    "# used rmsle as it is the score used in analytic vidya food demand forecasting hackathon \n",
    "\n",
    "MSE_Score_train = []\n",
    "RMSE_Score_train = []\n",
    "R2_Score_train = []\n",
    "\n",
    "MSE_Score_valid1 = []\n",
    "RMSE_Score_valid1 = []\n",
    "R2_Score_valid1 = []\n",
    "\n",
    "MSE_Score_valid2 = []\n",
    "RMSE_Score_valid2 = []\n",
    "R2_Score_valid2 = []\n",
    "\n",
    "Algorithm = []"
   ]
  },
  {
   "cell_type": "markdown",
   "id": "69a9ab09",
   "metadata": {},
   "source": [
    "## rf"
   ]
  },
  {
   "cell_type": "code",
   "execution_count": 83,
   "id": "e262addf",
   "metadata": {},
   "outputs": [],
   "source": [
    "# Fitting Random Forest Regressor Tree to the Training Set\n",
    "Algorithm.append('Random Forest Regressor')\n",
    "rf = RandomForestRegressor(max_depth=15,n_estimators=110)\n",
    "rf.fit(x_train, y_train)\n",
    "\n",
    "# Predicting the  Results\n",
    "predicted_rf_train=rf.predict(x_train)\n",
    "predicted_rf_valid1 = rf.predict(x_valid1)\n",
    "predicted_rf_valid2=rf.predict(x_valid2)"
   ]
  },
  {
   "cell_type": "code",
   "execution_count": 84,
   "id": "35b26f34",
   "metadata": {},
   "outputs": [],
   "source": [
    "MSE_Score_train.append(mean_squared_error(y_train, predicted_rf_train))\n",
    "RMSE_Score_train.append(np.sqrt((mean_squared_error(y_train, predicted_rf_train))))\n",
    "R2_Score_train.append(r2_score(y_train, predicted_rf_train))\n",
    "\n",
    "\n",
    "MSE_Score_valid1.append(mean_squared_error(y_valid1, predicted_rf_valid1))\n",
    "RMSE_Score_valid1.append(np.sqrt((mean_squared_error(y_valid1, predicted_rf_valid1))))\n",
    "R2_Score_valid1.append(r2_score(y_valid1, predicted_rf_valid1))\n",
    "\n",
    "MSE_Score_valid2.append(mean_squared_error(y_valid2, predicted_rf_valid2))\n",
    "RMSE_Score_valid2.append(np.sqrt(mean_squared_error(y_valid2, predicted_rf_valid2)))\n",
    "R2_Score_valid2.append(r2_score(y_valid2, predicted_rf_valid2))\n"
   ]
  },
  {
   "cell_type": "code",
   "execution_count": 85,
   "id": "b9ed72c3",
   "metadata": {},
   "outputs": [
    {
     "data": {
      "text/html": [
       "<div>\n",
       "<style scoped>\n",
       "    .dataframe tbody tr th:only-of-type {\n",
       "        vertical-align: middle;\n",
       "    }\n",
       "\n",
       "    .dataframe tbody tr th {\n",
       "        vertical-align: top;\n",
       "    }\n",
       "\n",
       "    .dataframe thead th {\n",
       "        text-align: right;\n",
       "    }\n",
       "</style>\n",
       "<table border=\"1\" class=\"dataframe\">\n",
       "  <thead>\n",
       "    <tr style=\"text-align: right;\">\n",
       "      <th></th>\n",
       "      <th>Algorithm</th>\n",
       "      <th>MSE_Score_train</th>\n",
       "      <th>RMSE_Score_train</th>\n",
       "      <th>R2_Score_train</th>\n",
       "      <th>MSE_Score_valid1</th>\n",
       "      <th>RMSE_Score_valid1</th>\n",
       "      <th>R2_Score_valid1</th>\n",
       "      <th>MSE_Score_valid2</th>\n",
       "      <th>RMSE_Score_valid2</th>\n",
       "      <th>R2_Score_valid2</th>\n",
       "    </tr>\n",
       "  </thead>\n",
       "  <tbody>\n",
       "    <tr>\n",
       "      <th>0</th>\n",
       "      <td>Random Forest Regressor</td>\n",
       "      <td>394.988352</td>\n",
       "      <td>19.874314</td>\n",
       "      <td>0.762862</td>\n",
       "      <td>1885.400844</td>\n",
       "      <td>43.421203</td>\n",
       "      <td>0.169655</td>\n",
       "      <td>1264.242753</td>\n",
       "      <td>35.556191</td>\n",
       "      <td>0.133972</td>\n",
       "    </tr>\n",
       "  </tbody>\n",
       "</table>\n",
       "</div>"
      ],
      "text/plain": [
       "                 Algorithm  MSE_Score_train  RMSE_Score_train  R2_Score_train  MSE_Score_valid1  RMSE_Score_valid1  R2_Score_valid1  MSE_Score_valid2  RMSE_Score_valid2  R2_Score_valid2\n",
       "0  Random Forest Regressor       394.988352         19.874314        0.762862       1885.400844          43.421203         0.169655       1264.242753          35.556191         0.133972"
      ]
     },
     "execution_count": 85,
     "metadata": {},
     "output_type": "execute_result"
    }
   ],
   "source": [
    "# Just Combining the Lists into a DataFrame for a Better Visualisation\n",
    "comparison = pd.DataFrame(list(zip(Algorithm,MSE_Score_train,RMSE_Score_train,R2_Score_train,MSE_Score_valid1,RMSE_Score_valid1,R2_Score_valid1,MSE_Score_valid2,RMSE_Score_valid2,R2_Score_valid2 )), columns = ['Algorithm','MSE_Score_train','RMSE_Score_train','R2_Score_train','MSE_Score_valid1','RMSE_Score_valid1','R2_Score_valid1','MSE_Score_valid2','RMSE_Score_valid2','R2_Score_valid2' ])\n",
    "comparison"
   ]
  },
  {
   "cell_type": "code",
   "execution_count": 86,
   "id": "19befa74",
   "metadata": {},
   "outputs": [
    {
     "data": {
      "image/png": "[encoded data removed]",
      "text/plain": [
       "<Figure size 504x504 with 1 Axes>"
      ]
     },
     "metadata": {},
     "output_type": "display_data"
    }
   ],
   "source": [
    "dfimp = pd.DataFrame({'col':x_train.columns, 'imp': rf.feature_importances_}).sort_values('imp', ascending=False).reset_index()\n",
    "dfimp['cum_imp'] = dfimp['imp'].cumsum()\n",
    "\n",
    "# TAKE A LOOK AT 15 MOST IMPORTANT COLUMNS\n",
    "\n",
    "dfimp[:15]\n",
    "\n",
    "plt.figure(figsize=(7,7))\n",
    "plt.barh(dfimp[:15]['col'], dfimp[:15]['imp'])\n",
    "plt.xlabel('Importance')\n",
    "plt.show()"
   ]
  },
  {
   "cell_type": "markdown",
   "id": "b97b7135",
   "metadata": {},
   "source": [
    "## lgbm"
   ]
  },
  {
   "cell_type": "code",
   "execution_count": 87,
   "id": "de2c9d6c",
   "metadata": {},
   "outputs": [],
   "source": [
    "import lightgbm as ltb\n",
    "# Fitting Random Forest Regressor Tree to the Training Set\n",
    "Algorithm.append('LGBM Regressor')\n",
    "lt = ltb.LGBMRegressor(max_depth=5,n_estimators=150)\n",
    "lt.fit(x_train, y_train) \n",
    "\n",
    "\n",
    "# Predicting the  Results\n",
    "predicted_lt_train=lt.predict(x_train)\n",
    "predicted_lt_valid1 = lt.predict(x_valid1)\n",
    "predicted_lt_valid2=lt.predict(x_valid2)"
   ]
  },
  {
   "cell_type": "code",
   "execution_count": 88,
   "id": "f70c37e4",
   "metadata": {},
   "outputs": [],
   "source": [
    "MSE_Score_train.append(mean_squared_error(y_train, predicted_lt_train))\n",
    "RMSE_Score_train.append(np.sqrt((mean_squared_error(y_train, predicted_lt_train))))\n",
    "R2_Score_train.append(r2_score(y_train, predicted_lt_train))\n",
    "\n",
    "\n",
    "MSE_Score_valid1.append(mean_squared_error(y_valid1, predicted_lt_valid1))\n",
    "RMSE_Score_valid1.append(np.sqrt((mean_squared_error(y_valid1, predicted_lt_valid1))))\n",
    "R2_Score_valid1.append(r2_score(y_valid1, predicted_lt_valid1))\n",
    "\n",
    "MSE_Score_valid2.append(mean_squared_error(y_valid2, predicted_lt_valid2))\n",
    "RMSE_Score_valid2.append(np.sqrt(mean_squared_error(y_valid2, predicted_lt_valid2)))\n",
    "R2_Score_valid2.append(r2_score(y_valid2, predicted_lt_valid2))\n"
   ]
  },
  {
   "cell_type": "code",
   "execution_count": 89,
   "id": "ab95b825",
   "metadata": {},
   "outputs": [
    {
     "data": {
      "text/html": [
       "<div>\n",
       "<style scoped>\n",
       "    .dataframe tbody tr th:only-of-type {\n",
       "        vertical-align: middle;\n",
       "    }\n",
       "\n",
       "    .dataframe tbody tr th {\n",
       "        vertical-align: top;\n",
       "    }\n",
       "\n",
       "    .dataframe thead th {\n",
       "        text-align: right;\n",
       "    }\n",
       "</style>\n",
       "<table border=\"1\" class=\"dataframe\">\n",
       "  <thead>\n",
       "    <tr style=\"text-align: right;\">\n",
       "      <th></th>\n",
       "      <th>Algorithm</th>\n",
       "      <th>MSE_Score_train</th>\n",
       "      <th>RMSE_Score_train</th>\n",
       "      <th>R2_Score_train</th>\n",
       "      <th>MSE_Score_valid1</th>\n",
       "      <th>RMSE_Score_valid1</th>\n",
       "      <th>R2_Score_valid1</th>\n",
       "      <th>MSE_Score_valid2</th>\n",
       "      <th>RMSE_Score_valid2</th>\n",
       "      <th>R2_Score_valid2</th>\n",
       "    </tr>\n",
       "  </thead>\n",
       "  <tbody>\n",
       "    <tr>\n",
       "      <th>0</th>\n",
       "      <td>Random Forest Regressor</td>\n",
       "      <td>394.988352</td>\n",
       "      <td>19.874314</td>\n",
       "      <td>0.762862</td>\n",
       "      <td>1885.400844</td>\n",
       "      <td>43.421203</td>\n",
       "      <td>0.169655</td>\n",
       "      <td>1264.242753</td>\n",
       "      <td>35.556191</td>\n",
       "      <td>0.133972</td>\n",
       "    </tr>\n",
       "    <tr>\n",
       "      <th>1</th>\n",
       "      <td>LGBM Regressor</td>\n",
       "      <td>866.601231</td>\n",
       "      <td>29.438091</td>\n",
       "      <td>0.479721</td>\n",
       "      <td>1830.712537</td>\n",
       "      <td>42.786827</td>\n",
       "      <td>0.193740</td>\n",
       "      <td>1229.247165</td>\n",
       "      <td>35.060621</td>\n",
       "      <td>0.157945</td>\n",
       "    </tr>\n",
       "  </tbody>\n",
       "</table>\n",
       "</div>"
      ],
      "text/plain": [
       "                 Algorithm  MSE_Score_train  RMSE_Score_train  R2_Score_train  MSE_Score_valid1  RMSE_Score_valid1  R2_Score_valid1  MSE_Score_valid2  RMSE_Score_valid2  R2_Score_valid2\n",
       "0  Random Forest Regressor       394.988352         19.874314        0.762862       1885.400844          43.421203         0.169655       1264.242753          35.556191         0.133972\n",
       "1           LGBM Regressor       866.601231         29.438091        0.479721       1830.712537          42.786827         0.193740       1229.247165          35.060621         0.157945"
      ]
     },
     "execution_count": 89,
     "metadata": {},
     "output_type": "execute_result"
    }
   ],
   "source": [
    "# Just Combining the Lists into a DataFrame for a Better Visualisation\n",
    "comparison = pd.DataFrame(list(zip(Algorithm,MSE_Score_train,RMSE_Score_train,R2_Score_train,MSE_Score_valid1,RMSE_Score_valid1,R2_Score_valid1,MSE_Score_valid2,RMSE_Score_valid2,R2_Score_valid2 )), columns = ['Algorithm','MSE_Score_train','RMSE_Score_train','R2_Score_train','MSE_Score_valid1','RMSE_Score_valid1','R2_Score_valid1','MSE_Score_valid2','RMSE_Score_valid2','R2_Score_valid2' ])\n",
    "comparison"
   ]
  },
  {
   "cell_type": "code",
   "execution_count": 91,
   "id": "ba432018",
   "metadata": {},
   "outputs": [
    {
     "data": {
      "image/png": "[encoded data removed]",
      "text/plain": [
       "<Figure size 504x504 with 1 Axes>"
      ]
     },
     "metadata": {},
     "output_type": "display_data"
    }
   ],
   "source": [
    "dfimp = pd.DataFrame({'col':x_train.columns, 'imp': lt.feature_importances_}).sort_values('imp', ascending=False).reset_index()\n",
    "dfimp['cum_imp'] = dfimp['imp'].cumsum()\n",
    "\n",
    "# TAKE A LOOK AT 15 MOST IMPORTANT COLUMNS\n",
    "\n",
    "dfimp[:15]\n",
    "\n",
    "plt.figure(figsize=(7,7))\n",
    "plt.barh(dfimp[:15]['col'], dfimp[:15]['imp'])\n",
    "plt.xlabel('Importance')\n",
    "plt.show()"
   ]
  },
  {
   "cell_type": "markdown",
   "id": "563c6185",
   "metadata": {},
   "source": [
    "#### reason of choosing lgbm: better rmse score(low rmse score), better r2_score(high r2 as compared to rf)"
   ]
  },
  {
   "cell_type": "code",
   "execution_count": null,
   "id": "0c71aa50",
   "metadata": {},
   "outputs": [],
   "source": [
    "break"
   ]
  },
  {
   "cell_type": "markdown",
   "id": "2618ab61",
   "metadata": {},
   "source": [
    "## making of csv for uploading"
   ]
  },
  {
   "cell_type": "code",
   "execution_count": null,
   "id": "7effe482",
   "metadata": {},
   "outputs": [],
   "source": [
    "test.head()"
   ]
  },
  {
   "cell_type": "code",
   "execution_count": null,
   "id": "541ccd65",
   "metadata": {},
   "outputs": [],
   "source": [
    "x_test.head()"
   ]
  },
  {
   "cell_type": "code",
   "execution_count": null,
   "id": "a9a6aee0",
   "metadata": {},
   "outputs": [],
   "source": [
    "predicted_lt_test=lt.predict(x_test)"
   ]
  },
  {
   "cell_type": "code",
   "execution_count": null,
   "id": "76ee9853",
   "metadata": {},
   "outputs": [],
   "source": []
  },
  {
   "cell_type": "code",
   "execution_count": null,
   "id": "d0541258",
   "metadata": {},
   "outputs": [],
   "source": [
    "lt1 = pd.DataFrame({\n",
    "     'date' : test['date'],\n",
    "     'hour' : test.hour,\n",
    "     'demand':predicted_lt_test\n",
    "})\n",
    "lt1.to_csv(\"lt_final.csv\", index=False)"
   ]
  },
  {
   "cell_type": "code",
   "execution_count": null,
   "id": "012ba259",
   "metadata": {},
   "outputs": [],
   "source": []
  }
 ],
 "metadata": {
  "kernelspec": {
   "display_name": "Python 3",
   "language": "python",
   "name": "python3"
  },
  "language_info": {
   "codemirror_mode": {
    "name": "ipython",
    "version": 3
   },
   "file_extension": ".py",
   "mimetype": "text/x-python",
   "name": "python",
   "nbconvert_exporter": "python",
   "pygments_lexer": "ipython3",
   "version": "3.8.8"
  }
 },
 "nbformat": 4,
 "nbformat_minor": 5
}
